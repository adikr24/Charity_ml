{
 "cells": [
  {
   "cell_type": "code",
   "execution_count": 1,
   "metadata": {
    "collapsed": true
   },
   "outputs": [],
   "source": [
    "#importing all the libraries needed for the analysis\n",
    "import pandas as pd\n",
    "import numpy as np\n",
    "import matplotlib.pyplot as plt\n",
    "import seaborn as sns\n",
    "%matplotlib inline\n",
    "import statsmodels.formula.api as smf\n",
    "import scipy.stats as stats\n",
    "from scipy.stats import chi2_contingency"
   ]
  },
  {
   "cell_type": "code",
   "execution_count": 2,
   "metadata": {
    "collapsed": true
   },
   "outputs": [],
   "source": [
    "df=pd.read_csv('census_data.csv')"
   ]
  },
  {
   "cell_type": "code",
   "execution_count": 3,
   "metadata": {},
   "outputs": [
    {
     "data": {
      "text/html": [
       "<div>\n",
       "<style>\n",
       "    .dataframe thead tr:only-child th {\n",
       "        text-align: right;\n",
       "    }\n",
       "\n",
       "    .dataframe thead th {\n",
       "        text-align: left;\n",
       "    }\n",
       "\n",
       "    .dataframe tbody tr th {\n",
       "        vertical-align: top;\n",
       "    }\n",
       "</style>\n",
       "<table border=\"1\" class=\"dataframe\">\n",
       "  <thead>\n",
       "    <tr style=\"text-align: right;\">\n",
       "      <th></th>\n",
       "      <th>age</th>\n",
       "      <th>workclass</th>\n",
       "      <th>education_level</th>\n",
       "      <th>education-num</th>\n",
       "      <th>marital-status</th>\n",
       "      <th>occupation</th>\n",
       "      <th>relationship</th>\n",
       "      <th>race</th>\n",
       "      <th>sex</th>\n",
       "      <th>capital-gain</th>\n",
       "      <th>capital-loss</th>\n",
       "      <th>hours-per-week</th>\n",
       "      <th>native-country</th>\n",
       "      <th>income</th>\n",
       "    </tr>\n",
       "  </thead>\n",
       "  <tbody>\n",
       "    <tr>\n",
       "      <th>0</th>\n",
       "      <td>39</td>\n",
       "      <td>State-gov</td>\n",
       "      <td>Bachelors</td>\n",
       "      <td>13.0</td>\n",
       "      <td>Never-married</td>\n",
       "      <td>Adm-clerical</td>\n",
       "      <td>Not-in-family</td>\n",
       "      <td>White</td>\n",
       "      <td>Male</td>\n",
       "      <td>2174.0</td>\n",
       "      <td>0.0</td>\n",
       "      <td>40.0</td>\n",
       "      <td>United-States</td>\n",
       "      <td>&lt;=50K</td>\n",
       "    </tr>\n",
       "    <tr>\n",
       "      <th>1</th>\n",
       "      <td>50</td>\n",
       "      <td>Self-emp-not-inc</td>\n",
       "      <td>Bachelors</td>\n",
       "      <td>13.0</td>\n",
       "      <td>Married-civ-spouse</td>\n",
       "      <td>Exec-managerial</td>\n",
       "      <td>Husband</td>\n",
       "      <td>White</td>\n",
       "      <td>Male</td>\n",
       "      <td>0.0</td>\n",
       "      <td>0.0</td>\n",
       "      <td>13.0</td>\n",
       "      <td>United-States</td>\n",
       "      <td>&lt;=50K</td>\n",
       "    </tr>\n",
       "  </tbody>\n",
       "</table>\n",
       "</div>"
      ],
      "text/plain": [
       "   age          workclass education_level  education-num       marital-status  \\\n",
       "0   39          State-gov       Bachelors           13.0        Never-married   \n",
       "1   50   Self-emp-not-inc       Bachelors           13.0   Married-civ-spouse   \n",
       "\n",
       "         occupation    relationship    race    sex  capital-gain  \\\n",
       "0      Adm-clerical   Not-in-family   White   Male        2174.0   \n",
       "1   Exec-managerial         Husband   White   Male           0.0   \n",
       "\n",
       "   capital-loss  hours-per-week  native-country income  \n",
       "0           0.0            40.0   United-States  <=50K  \n",
       "1           0.0            13.0   United-States  <=50K  "
      ]
     },
     "execution_count": 3,
     "metadata": {},
     "output_type": "execute_result"
    }
   ],
   "source": [
    "df.head(2)"
   ]
  },
  {
   "cell_type": "code",
   "execution_count": 4,
   "metadata": {
    "collapsed": true
   },
   "outputs": [],
   "source": [
    "# to classify the income variable in binary class\n",
    "newincome=[]\n",
    "for i in df['income']:\n",
    "    if i == '>50K':\n",
    "        y=1\n",
    "    else:\n",
    "        y=0\n",
    "    newincome.append(y)    \n",
    "df['newincome']=newincome"
   ]
  },
  {
   "cell_type": "code",
   "execution_count": 5,
   "metadata": {},
   "outputs": [
    {
     "name": "stdout",
     "output_type": "stream",
     "text": [
      "<class 'pandas.core.frame.DataFrame'>\n",
      "RangeIndex: 45222 entries, 0 to 45221\n",
      "Data columns (total 15 columns):\n",
      "age                45222 non-null int64\n",
      "workclass          45222 non-null object\n",
      "education_level    45222 non-null object\n",
      "education-num      45222 non-null float64\n",
      "marital-status     45222 non-null object\n",
      "occupation         45222 non-null object\n",
      "relationship       45222 non-null object\n",
      "race               45222 non-null object\n",
      "sex                45222 non-null object\n",
      "capital-gain       45222 non-null float64\n",
      "capital-loss       45222 non-null float64\n",
      "hours-per-week     45222 non-null float64\n",
      "native-country     45222 non-null object\n",
      "income             45222 non-null object\n",
      "newincome          45222 non-null int64\n",
      "dtypes: float64(4), int64(2), object(9)\n",
      "memory usage: 5.2+ MB\n"
     ]
    }
   ],
   "source": [
    "df.info()\n",
    "# age , education_num, capital_gain, capital-loss, hours-per-week\n",
    "# the above variables are all numeric"
   ]
  },
  {
   "cell_type": "code",
   "execution_count": 6,
   "metadata": {
    "collapsed": true
   },
   "outputs": [],
   "source": [
    "# renaming the variables makes easier to work with the columns\n",
    "df.rename(columns={\"education-num\":\"education_number\",\"marital-status\":\"marital_status\",\"capital-loss\":\"capital_loss\",\"capital-gain\":\"capital_gain\",\"hours-per-week\":\"hrs_per_week\",\"native-country\":\"native_country\"},inplace=True)"
   ]
  },
  {
   "cell_type": "code",
   "execution_count": 7,
   "metadata": {},
   "outputs": [
    {
     "name": "stderr",
     "output_type": "stream",
     "text": [
      "C:\\Users\\adity\\Anaconda4\\lib\\site-packages\\scipy\\stats\\morestats.py:1326: UserWarning: p-value may not be accurate for N > 5000.\n",
      "  warnings.warn(\"p-value may not be accurate for N > 5000.\")\n"
     ]
    },
    {
     "data": {
      "text/plain": [
       "Text(0.5,1,'age Q-Q Plot')"
      ]
     },
     "execution_count": 7,
     "metadata": {},
     "output_type": "execute_result"
    },
    {
     "data": {
      "image/png": "[encoded data removed]",
      "text/plain": [
       "<matplotlib.figure.Figure at 0x1e70aa540b8>"
      ]
     },
     "metadata": {},
     "output_type": "display_data"
    }
   ],
   "source": [
    "# anova between continuous and categrical variables to assess significance\n",
    "\n",
    "# to run anova check for assumptions of ANOVA\n",
    "# normality assumption\n",
    "#stats.shapiro(df['libido'][df['dose'] == 'high'])\n",
    "stats.shapiro(df['age'][df['newincome']==1])\n",
    "stats.probplot(df['age'][df['newincome'] == 1], plot= plt)\n",
    "plt.title(\"age Q-Q Plot\")"
   ]
  },
  {
   "cell_type": "code",
   "execution_count": 8,
   "metadata": {},
   "outputs": [
    {
     "name": "stderr",
     "output_type": "stream",
     "text": [
      "C:\\Users\\adity\\Anaconda4\\lib\\site-packages\\scipy\\stats\\morestats.py:1326: UserWarning: p-value may not be accurate for N > 5000.\n",
      "  warnings.warn(\"p-value may not be accurate for N > 5000.\")\n"
     ]
    },
    {
     "data": {
      "text/plain": [
       "Text(0.5,1,'cap_gain Q-Q Plot')"
      ]
     },
     "execution_count": 8,
     "metadata": {},
     "output_type": "execute_result"
    },
    {
     "data": {
      "image/png": "[encoded data removed]",
      "text/plain": [
       "<matplotlib.figure.Figure at 0x1e70e594a20>"
      ]
     },
     "metadata": {},
     "output_type": "display_data"
    }
   ],
   "source": [
    "stats.shapiro(df['capital_gain'][df['newincome']==0])\n",
    "stats.probplot(df['capital_gain'][df['newincome'] == 0], plot= plt)\n",
    "plt.title(\"cap_gain Q-Q Plot\")\n",
    "# assumption of normality violated ( ANOVA will not be done)"
   ]
  },
  {
   "cell_type": "code",
   "execution_count": 9,
   "metadata": {},
   "outputs": [
    {
     "name": "stderr",
     "output_type": "stream",
     "text": [
      "C:\\Users\\adity\\Anaconda4\\lib\\site-packages\\scipy\\stats\\morestats.py:1326: UserWarning: p-value may not be accurate for N > 5000.\n",
      "  warnings.warn(\"p-value may not be accurate for N > 5000.\")\n"
     ]
    },
    {
     "data": {
      "text/plain": [
       "Text(0.5,1,'cap_loss Q-Q Plot')"
      ]
     },
     "execution_count": 9,
     "metadata": {},
     "output_type": "execute_result"
    },
    {
     "data": {
      "image/png": "[encoded data removed]",
      "text/plain": [
       "<matplotlib.figure.Figure at 0x1e70f145198>"
      ]
     },
     "metadata": {},
     "output_type": "display_data"
    }
   ],
   "source": [
    "stats.shapiro(df['capital_loss'][df['newincome']==1])\n",
    "\n",
    "stats.probplot(df['capital_loss'][df['newincome'] == 1], plot= plt)\n",
    "plt.title(\"cap_loss Q-Q Plot\")\n",
    "# ANOVA assumptions not met"
   ]
  },
  {
   "cell_type": "code",
   "execution_count": 10,
   "metadata": {},
   "outputs": [
    {
     "name": "stderr",
     "output_type": "stream",
     "text": [
      "C:\\Users\\adity\\Anaconda4\\lib\\site-packages\\scipy\\stats\\morestats.py:1326: UserWarning: p-value may not be accurate for N > 5000.\n",
      "  warnings.warn(\"p-value may not be accurate for N > 5000.\")\n"
     ]
    },
    {
     "data": {
      "text/plain": [
       "Text(0.5,1,'number of hrs worked')"
      ]
     },
     "execution_count": 10,
     "metadata": {},
     "output_type": "execute_result"
    },
    {
     "data": {
      "image/png": "[encoded data removed]",
      "text/plain": [
       "<matplotlib.figure.Figure at 0x1e70f136400>"
      ]
     },
     "metadata": {},
     "output_type": "display_data"
    }
   ],
   "source": [
    "stats.shapiro(df['hrs_per_week'][df['newincome']==0])\n",
    "stats.probplot(df['hrs_per_week'][df['newincome']==0],plot=plt)\n",
    "plt.title(\"number of hrs worked\")"
   ]
  },
  {
   "cell_type": "code",
   "execution_count": 11,
   "metadata": {},
   "outputs": [
    {
     "name": "stderr",
     "output_type": "stream",
     "text": [
      "C:\\Users\\adity\\Anaconda4\\lib\\site-packages\\scipy\\stats\\morestats.py:1326: UserWarning: p-value may not be accurate for N > 5000.\n",
      "  warnings.warn(\"p-value may not be accurate for N > 5000.\")\n"
     ]
    },
    {
     "data": {
      "text/plain": [
       "Text(0.5,1,'number of hrs worked')"
      ]
     },
     "execution_count": 11,
     "metadata": {},
     "output_type": "execute_result"
    },
    {
     "data": {
      "image/png": "[encoded data removed]",
      "text/plain": [
       "<matplotlib.figure.Figure at 0x1e70ea5f828>"
      ]
     },
     "metadata": {},
     "output_type": "display_data"
    }
   ],
   "source": [
    "stats.shapiro(df['hrs_per_week'][df['newincome']==1])\n",
    "stats.probplot(df['hrs_per_week'][df['newincome']==1],plot=plt)\n",
    "plt.title(\"number of hrs worked\")"
   ]
  },
  {
   "cell_type": "code",
   "execution_count": 12,
   "metadata": {},
   "outputs": [
    {
     "data": {
      "text/plain": [
       "LeveneResult(statistic=929.86337816744492, pvalue=3.5678768119551583e-202)"
      ]
     },
     "execution_count": 12,
     "metadata": {},
     "output_type": "execute_result"
    }
   ],
   "source": [
    "# 2nd assumption of Anova- Homogeniety of Variance\n",
    "# Homogeneity of Variance- perform levens test on age and hrs-per-week\n",
    "# h0 : null hypothesis states that variance are equal sig1-sig2\n",
    "# ha: alternate hypothesis that variance are not equal\n",
    "\n",
    "stats.levene(df['age'][df['newincome']==0],\n",
    "           df['age'][df['newincome']==1])\n",
    "# fail to reject null\n",
    "# ANOVA Assumptions are met"
   ]
  },
  {
   "cell_type": "code",
   "execution_count": 13,
   "metadata": {},
   "outputs": [
    {
     "data": {
      "text/plain": [
       "LeveneResult(statistic=29.460519688587873, pvalue=5.7360232062770614e-08)"
      ]
     },
     "execution_count": 13,
     "metadata": {},
     "output_type": "execute_result"
    }
   ],
   "source": [
    "# levens test on hrs-per-week\n",
    "stats.levene(df['hrs_per_week'][df['newincome']==0],\n",
    "            df['hrs_per_week'][df['newincome']==1])\n",
    "#p val significant \n",
    "#fail to reject null"
   ]
  },
  {
   "cell_type": "code",
   "execution_count": 14,
   "metadata": {},
   "outputs": [
    {
     "name": "stdout",
     "output_type": "stream",
     "text": [
      "                            OLS Regression Results                            \n",
      "==============================================================================\n",
      "Dep. Variable:              newincome   R-squared:                       0.056\n",
      "Model:                            OLS   Adj. R-squared:                  0.056\n",
      "Method:                 Least Squares   F-statistic:                     2692.\n",
      "Date:                Wed, 08 Aug 2018   Prob (F-statistic):               0.00\n",
      "Time:                        20:50:26   Log-Likelihood:                -24878.\n",
      "No. Observations:               45222   AIC:                         4.976e+04\n",
      "Df Residuals:                   45220   BIC:                         4.978e+04\n",
      "Df Model:                           1                                         \n",
      "Covariance Type:            nonrobust                                         \n",
      "==============================================================================\n",
      "                 coef    std err          t      P>|t|      [0.025      0.975]\n",
      "------------------------------------------------------------------------------\n",
      "Intercept     -0.0506      0.006     -8.326      0.000      -0.063      -0.039\n",
      "age            0.0077      0.000     51.885      0.000       0.007       0.008\n",
      "==============================================================================\n",
      "Omnibus:                     7257.667   Durbin-Watson:                   2.010\n",
      "Prob(Omnibus):                  0.000   Jarque-Bera (JB):             8713.328\n",
      "Skew:                           1.028   Prob(JB):                         0.00\n",
      "Kurtosis:                       2.373   Cond. No.                         126.\n",
      "==============================================================================\n",
      "\n",
      "Warnings:\n",
      "[1] Standard Errors assume that the covariance matrix of the errors is correctly specified.\n"
     ]
    },
    {
     "name": "stderr",
     "output_type": "stream",
     "text": [
      "C:\\Users\\adity\\Anaconda4\\lib\\site-packages\\numpy\\core\\fromnumeric.py:57: FutureWarning: reshape is deprecated and will raise in a subsequent release. Please use .values.reshape(...) instead\n",
      "  return getattr(obj, method)(*args, **kwds)\n"
     ]
    },
    {
     "data": {
      "text/plain": [
       "<matplotlib.axes._subplots.AxesSubplot at 0x1e710b1eb70>"
      ]
     },
     "execution_count": 14,
     "metadata": {},
     "output_type": "execute_result"
    },
    {
     "data": {
      "image/png": "[encoded data removed]",
      "text/plain": [
       "<matplotlib.figure.Figure at 0x1e710b27160>"
      ]
     },
     "metadata": {},
     "output_type": "display_data"
    }
   ],
   "source": [
    "# the output variable is dichotomous or ordinal so test the association with ANOVA, ANOVA is a generalized linear model so\n",
    "\n",
    "\n",
    "model = smf.ols(formula='newincome ~ age', data=df)\n",
    "results = model.fit()\n",
    "print (results.summary())\n",
    "\n",
    "df.boxplot('age',by='newincome')\n",
    "\n",
    "# inference\n",
    "# let the null hypothesis or h0=  that there is not association between the two variables\n",
    "# alternate hypothesis h1= there is association between the two variables\n",
    "# the p value is low and F value is quite high so the results suggest there is association between age and newincome,\n",
    "# _ however the F value and P values in ANOVA are affected by the sample size so the this results only suggest that there is association\n",
    "# _between thee variables and does not suggest the strength of it.\n",
    "# p value < than alpha (0.05) thus the reject null"
   ]
  },
  {
   "cell_type": "code",
   "execution_count": 15,
   "metadata": {},
   "outputs": [
    {
     "name": "stdout",
     "output_type": "stream",
     "text": [
      "                            OLS Regression Results                            \n",
      "==============================================================================\n",
      "Dep. Variable:              newincome   R-squared:                       0.052\n",
      "Model:                            OLS   Adj. R-squared:                  0.052\n",
      "Method:                 Least Squares   F-statistic:                     2461.\n",
      "Date:                Wed, 08 Aug 2018   Prob (F-statistic):               0.00\n",
      "Time:                        20:50:53   Log-Likelihood:                -24988.\n",
      "No. Observations:               45222   AIC:                         4.998e+04\n",
      "Df Residuals:                   45220   BIC:                         5.000e+04\n",
      "Df Model:                           1                                         \n",
      "Covariance Type:            nonrobust                                         \n",
      "================================================================================\n",
      "                   coef    std err          t      P>|t|      [0.025      0.975]\n",
      "--------------------------------------------------------------------------------\n",
      "Intercept       -0.0866      0.007    -12.327      0.000      -0.100      -0.073\n",
      "hrs_per_week     0.0082      0.000     49.611      0.000       0.008       0.008\n",
      "==============================================================================\n",
      "Omnibus:                     7295.770   Durbin-Watson:                   2.011\n",
      "Prob(Omnibus):                  0.000   Jarque-Bera (JB):             9161.501\n",
      "Skew:                           1.061   Prob(JB):                         0.00\n",
      "Kurtosis:                       2.402   Cond. No.                         152.\n",
      "==============================================================================\n",
      "\n",
      "Warnings:\n",
      "[1] Standard Errors assume that the covariance matrix of the errors is correctly specified.\n"
     ]
    }
   ],
   "source": [
    "model = smf.ols(formula='newincome~ hrs_per_week', data=df)\n",
    "results = model.fit()\n",
    "print (results.summary())\n",
    "\n",
    "# results - large f value and small p value suggest that there is association between the variables (reject null)"
   ]
  },
  {
   "cell_type": "code",
   "execution_count": 16,
   "metadata": {
    "collapsed": true
   },
   "outputs": [],
   "source": [
    "#I fitted a logit_function to see if the continous variables are significant or not.\n",
    "# assumptions of Anova was not met thus I couldn't do Anova on them\n",
    "## hence the p value from fitting the logit function gives us the idea whether or not the variable is significant\n"
   ]
  },
  {
   "cell_type": "code",
   "execution_count": 97,
   "metadata": {
    "scrolled": true
   },
   "outputs": [
    {
     "name": "stdout",
     "output_type": "stream",
     "text": [
      "Optimization terminated successfully.\n",
      "         Current function value: 0.508074\n",
      "         Iterations 8\n"
     ]
    }
   ],
   "source": [
    "legref1= smf.logit(formula='newincome ~ capital_gain', data=df).fit()"
   ]
  },
  {
   "cell_type": "code",
   "execution_count": 98,
   "metadata": {
    "scrolled": true
   },
   "outputs": [
    {
     "name": "stdout",
     "output_type": "stream",
     "text": [
      "                           Logit Regression Results                           \n",
      "==============================================================================\n",
      "Dep. Variable:              newincome   No. Observations:                45222\n",
      "Model:                          Logit   Df Residuals:                    45220\n",
      "Method:                           MLE   Df Model:                            1\n",
      "Date:                Sun, 05 Aug 2018   Pseudo R-squ.:                 0.09265\n",
      "Time:                        00:38:32   Log-Likelihood:                -22976.\n",
      "converged:                       True   LL-Null:                       -25322.\n",
      "                                        LLR p-value:                     0.000\n",
      "================================================================================\n",
      "                   coef    std err          z      P>|z|      [0.025      0.975]\n",
      "--------------------------------------------------------------------------------\n",
      "Intercept       -1.3371      0.012   -111.585      0.000      -1.361      -1.314\n",
      "capital_gain     0.0003    7.3e-06     45.795      0.000       0.000       0.000\n",
      "================================================================================\n"
     ]
    }
   ],
   "source": [
    "print(legref1.summary())"
   ]
  },
  {
   "cell_type": "code",
   "execution_count": 95,
   "metadata": {},
   "outputs": [
    {
     "name": "stdout",
     "output_type": "stream",
     "text": [
      "Optimization terminated successfully.\n",
      "         Current function value: 0.550497\n",
      "         Iterations 5\n"
     ]
    }
   ],
   "source": []
  },
  {
   "cell_type": "code",
   "execution_count": 96,
   "metadata": {
    "scrolled": true
   },
   "outputs": [
    {
     "name": "stdout",
     "output_type": "stream",
     "text": [
      "                           Logit Regression Results                           \n",
      "==============================================================================\n",
      "Dep. Variable:              newincome   No. Observations:                45222\n",
      "Model:                          Logit   Df Residuals:                    45220\n",
      "Method:                           MLE   Df Model:                            1\n",
      "Date:                Sun, 05 Aug 2018   Pseudo R-squ.:                 0.01689\n",
      "Time:                        00:38:13   Log-Likelihood:                -24895.\n",
      "converged:                       True   LL-Null:                       -25322.\n",
      "                                        LLR p-value:                4.980e-188\n",
      "================================================================================\n",
      "                   coef    std err          z      P>|z|      [0.025      0.975]\n",
      "--------------------------------------------------------------------------------\n",
      "Intercept       -1.1868      0.011   -104.378      0.000      -1.209      -1.165\n",
      "capital_loss     0.0007   2.37e-05     29.459      0.000       0.001       0.001\n",
      "================================================================================\n"
     ]
    }
   ],
   "source": [
    "print(legref1.summary())"
   ]
  },
  {
   "cell_type": "code",
   "execution_count": 117,
   "metadata": {},
   "outputs": [
    {
     "name": "stdout",
     "output_type": "stream",
     "text": [
      "Optimization terminated successfully.\n",
      "         Current function value: 0.325360\n",
      "         Iterations 11\n"
     ]
    }
   ],
   "source": [
    "# fit a logistic regression model to analyze the significant variables :\n",
    "\n",
    "\n",
    "legref1= smf.logit(formula='newincome ~ age+workclass+education_level+marital_status+occupation+relationship+race+sex+capital_gain+capital_loss+hrs_per_week', data=df).fit()"
   ]
  },
  {
   "cell_type": "code",
   "execution_count": 109,
   "metadata": {},
   "outputs": [
    {
     "name": "stdout",
     "output_type": "stream",
     "text": [
      "<class 'pandas.core.frame.DataFrame'>\n",
      "RangeIndex: 45222 entries, 0 to 45221\n",
      "Data columns (total 15 columns):\n",
      "age                 45222 non-null int64\n",
      "workclass           45222 non-null object\n",
      "education_level     45222 non-null object\n",
      "education_number    45222 non-null float64\n",
      "marital_status      45222 non-null object\n",
      "occupation          45222 non-null object\n",
      "relationship        45222 non-null object\n",
      "race                45222 non-null object\n",
      "sex                 45222 non-null object\n",
      "capital_gain        45222 non-null float64\n",
      "capital_loss        45222 non-null float64\n",
      "hrs_per_week        45222 non-null float64\n",
      "native_country      45222 non-null object\n",
      "income              45222 non-null object\n",
      "newincome           45222 non-null int64\n",
      "dtypes: float64(4), int64(2), object(9)\n",
      "memory usage: 5.2+ MB\n"
     ]
    }
   ],
   "source": [
    "df.info()"
   ]
  },
  {
   "cell_type": "code",
   "execution_count": 118,
   "metadata": {},
   "outputs": [
    {
     "name": "stdout",
     "output_type": "stream",
     "text": [
      "                           Logit Regression Results                           \n",
      "==============================================================================\n",
      "Dep. Variable:              newincome   No. Observations:                45222\n",
      "Model:                          Logit   Df Residuals:                    45167\n",
      "Method:                           MLE   Df Model:                           54\n",
      "Date:                Sun, 05 Aug 2018   Pseudo R-squ.:                  0.4190\n",
      "Time:                        00:47:38   Log-Likelihood:                -14713.\n",
      "converged:                       True   LL-Null:                       -25322.\n",
      "                                        LLR p-value:                     0.000\n",
      "============================================================================================================\n",
      "                                               coef    std err          z      P>|z|      [0.025      0.975]\n",
      "------------------------------------------------------------------------------------------------------------\n",
      "Intercept                                   -7.2417      0.345    -20.981      0.000      -7.918      -6.565\n",
      "workclass[T. Local-gov]                     -0.6383      0.092     -6.912      0.000      -0.819      -0.457\n",
      "workclass[T. Private]                       -0.4923      0.077     -6.394      0.000      -0.643      -0.341\n",
      "workclass[T. Self-emp-inc]                  -0.3601      0.101     -3.567      0.000      -0.558      -0.162\n",
      "workclass[T. Self-emp-not-inc]              -1.0428      0.090    -11.567      0.000      -1.220      -0.866\n",
      "workclass[T. State-gov]                     -0.7964      0.102     -7.819      0.000      -0.996      -0.597\n",
      "workclass[T. Without-pay]                   -1.3587      0.789     -1.723      0.085      -2.905       0.187\n",
      "education_level[T. 11th]                     0.0885      0.178      0.498      0.618      -0.260       0.436\n",
      "education_level[T. 12th]                     0.4535      0.224      2.020      0.043       0.014       0.893\n",
      "education_level[T. 1st-4th]                 -0.7657      0.408     -1.878      0.060      -1.565       0.034\n",
      "education_level[T. 5th-6th]                 -0.4457      0.271     -1.646      0.100      -0.976       0.085\n",
      "education_level[T. 7th-8th]                 -0.4789      0.198     -2.419      0.016      -0.867      -0.091\n",
      "education_level[T. 9th]                     -0.3106      0.222     -1.400      0.162      -0.745       0.124\n",
      "education_level[T. Assoc-acdm]               1.4236      0.150      9.517      0.000       1.130       1.717\n",
      "education_level[T. Assoc-voc]                1.3226      0.144      9.162      0.000       1.040       1.606\n",
      "education_level[T. Bachelors]                1.9738      0.135     14.662      0.000       1.710       2.238\n",
      "education_level[T. Doctorate]                2.8567      0.183     15.571      0.000       2.497       3.216\n",
      "education_level[T. HS-grad]                  0.8495      0.131      6.478      0.000       0.592       1.107\n",
      "education_level[T. Masters]                  2.2873      0.143     16.006      0.000       2.007       2.567\n",
      "education_level[T. Preschool]               -5.3396      4.186     -1.276      0.202     -13.544       2.864\n",
      "education_level[T. Prof-school]              2.8951      0.173     16.737      0.000       2.556       3.234\n",
      "education_level[T. Some-college]             1.2102      0.133      9.098      0.000       0.949       1.471\n",
      "marital_status[T. Married-AF-spouse]         2.6147      0.483      5.418      0.000       1.669       3.561\n",
      "marital_status[T. Married-civ-spouse]        2.2705      0.223     10.177      0.000       1.833       2.708\n",
      "marital_status[T. Married-spouse-absent]     0.1661      0.185      0.896      0.370      -0.197       0.529\n",
      "marital_status[T. Never-married]            -0.4196      0.073     -5.747      0.000      -0.563      -0.277\n",
      "marital_status[T. Separated]                -0.0071      0.134     -0.053      0.958      -0.271       0.256\n",
      "marital_status[T. Widowed]                   0.1099      0.130      0.846      0.397      -0.145       0.364\n",
      "occupation[T. Armed-Forces]                  0.2167      0.891      0.243      0.808      -1.529       1.963\n",
      "occupation[T. Craft-repair]                  0.0619      0.065      0.947      0.344      -0.066       0.190\n",
      "occupation[T. Exec-managerial]               0.7821      0.063     12.416      0.000       0.659       0.906\n",
      "occupation[T. Farming-fishing]              -0.9818      0.115     -8.519      0.000      -1.208      -0.756\n",
      "occupation[T. Handlers-cleaners]            -0.6890      0.115     -6.005      0.000      -0.914      -0.464\n",
      "occupation[T. Machine-op-inspct]            -0.3010      0.083     -3.613      0.000      -0.464      -0.138\n",
      "occupation[T. Other-service]                -0.8983      0.097     -9.232      0.000      -1.089      -0.708\n",
      "occupation[T. Priv-house-serv]              -1.9942      0.751     -2.655      0.008      -3.467      -0.522\n",
      "occupation[T. Prof-specialty]                0.5281      0.067      7.939      0.000       0.398       0.658\n",
      "occupation[T. Protective-serv]               0.5009      0.103      4.865      0.000       0.299       0.703\n",
      "occupation[T. Sales]                         0.2610      0.067      3.878      0.000       0.129       0.393\n",
      "occupation[T. Tech-support]                  0.5654      0.090      6.262      0.000       0.388       0.742\n",
      "occupation[T. Transport-moving]             -0.0837      0.081     -1.032      0.302      -0.243       0.075\n",
      "relationship[T. Not-in-family]               0.4980      0.221      2.257      0.024       0.065       0.931\n",
      "relationship[T. Other-relative]             -0.5199      0.201     -2.592      0.010      -0.913      -0.127\n",
      "relationship[T. Own-child]                  -0.5873      0.217     -2.701      0.007      -1.013      -0.161\n",
      "relationship[T. Unmarried]                   0.3113      0.234      1.330      0.184      -0.148       0.770\n",
      "relationship[T. Wife]                        1.1208      0.085     13.140      0.000       0.954       1.288\n",
      "race[T. Asian-Pac-Islander]                  0.4887      0.200      2.438      0.015       0.096       0.882\n",
      "race[T. Black]                               0.3690      0.190      1.938      0.053      -0.004       0.742\n",
      "race[T. Other]                               0.2563      0.276      0.930      0.353      -0.284       0.797\n",
      "race[T. White]                               0.5616      0.181      3.096      0.002       0.206       0.917\n",
      "sex[T. Male]                                 0.7097      0.065     10.913      0.000       0.582       0.837\n",
      "age                                          0.0253      0.001     18.266      0.000       0.023       0.028\n",
      "capital_gain                                 0.0003   8.71e-06     36.581      0.000       0.000       0.000\n",
      "capital_loss                                 0.0006   3.11e-05     20.729      0.000       0.001       0.001\n",
      "hrs_per_week                                 0.0289      0.001     21.111      0.000       0.026       0.032\n",
      "============================================================================================================\n"
     ]
    }
   ],
   "source": [
    "print(legref1.summary())\n",
    "# p value greater than 0.05 suggest that the variable is not significant and can be removed,\n",
    "# however none of the variables altogether is insignificant and there are some levels of the every variable that are insignificant\n",
    "# now the insignificant variables can be binned together to make a single dummy variable which I did in the FInal_file, where I have\n",
    "# binned education variables together."
   ]
  },
  {
   "cell_type": "code",
   "execution_count": 6,
   "metadata": {
    "collapsed": true
   },
   "outputs": [],
   "source": [
    "import statsmodels.formula.api as smf"
   ]
  },
  {
   "cell_type": "code",
   "execution_count": 10,
   "metadata": {
    "collapsed": true
   },
   "outputs": [
    {
     "name": "stdout",
     "output_type": "stream",
     "text": [
      "                           Logit Regression Results                           \n",
      "==============================================================================\n",
      "Dep. Variable:              newincome   No. Observations:                45222\n",
      "Model:                          Logit   Df Residuals:                    45200\n",
      "Method:                           MLE   Df Model:                           21\n",
      "Date:                Thu, 02 Aug 2018   Pseudo R-squ.:                  0.1258\n",
      "Time:                        19:28:06   Log-Likelihood:                -22137.\n",
      "converged:                       True   LL-Null:                       -25322.\n",
      "                                        LLR p-value:                     0.000\n",
      "====================================================================================================\n",
      "                                       coef    std err          z      P>|z|      [0.025      0.975]\n",
      "----------------------------------------------------------------------------------------------------\n",
      "Intercept                           -2.0825      0.129    -16.170      0.000      -2.335      -1.830\n",
      "workclass[T. Local-gov]             -0.6025      0.073     -8.309      0.000      -0.745      -0.460\n",
      "workclass[T. Private]               -0.6172      0.060    -10.259      0.000      -0.735      -0.499\n",
      "workclass[T. Self-emp-inc]           0.6210      0.080      7.790      0.000       0.465       0.777\n",
      "workclass[T. Self-emp-not-inc]      -0.4485      0.071     -6.334      0.000      -0.587      -0.310\n",
      "workclass[T. State-gov]             -0.8848      0.081    -10.901      0.000      -1.044      -0.726\n",
      "workclass[T. Without-pay]           -1.2045      0.749     -1.608      0.108      -2.672       0.263\n",
      "education_level[T. 11th]            -0.1903      0.158     -1.201      0.230      -0.501       0.120\n",
      "education_level[T. 12th]             0.1221      0.196      0.623      0.533      -0.262       0.506\n",
      "education_level[T. 1st-4th]         -0.6110      0.378     -1.616      0.106      -1.352       0.130\n",
      "education_level[T. 5th-6th]         -0.3128      0.247     -1.266      0.206      -0.797       0.172\n",
      "education_level[T. 7th-8th]         -0.0051      0.181     -0.028      0.977      -0.360       0.350\n",
      "education_level[T. 9th]             -0.1784      0.203     -0.879      0.379      -0.576       0.219\n",
      "education_level[T. Assoc-acdm]       1.5775      0.129     12.226      0.000       1.325       1.830\n",
      "education_level[T. Assoc-voc]        1.5678      0.126     12.447      0.000       1.321       1.815\n",
      "education_level[T. Bachelors]        2.2851      0.117     19.509      0.000       2.055       2.515\n",
      "education_level[T. Doctorate]        3.6435      0.152     24.046      0.000       3.347       3.940\n",
      "education_level[T. HS-grad]          0.9901      0.117      8.474      0.000       0.761       1.219\n",
      "education_level[T. Masters]          2.8566      0.122     23.415      0.000       2.618       3.096\n",
      "education_level[T. Preschool]       -1.5732      1.014     -1.552      0.121      -3.560       0.413\n",
      "education_level[T. Prof-school]      3.6195      0.142     25.418      0.000       3.340       3.899\n",
      "education_level[T. Some-college]     1.2381      0.117     10.541      0.000       1.008       1.468\n",
      "====================================================================================================\n"
     ]
    }
   ],
   "source": [
    "print(legref1.summary())"
   ]
  },
  {
   "cell_type": "code",
   "execution_count": 17,
   "metadata": {},
   "outputs": [
    {
     "name": "stdout",
     "output_type": "stream",
     "text": [
      "Optimization terminated successfully.\n",
      "         Current function value: 0.496270\n",
      "         Iterations 8\n"
     ]
    }
   ],
   "source": [
    "legref2= smf.logit(formula='newincome ~ education_level', data=df).fit()"
   ]
  },
  {
   "cell_type": "code",
   "execution_count": 18,
   "metadata": {},
   "outputs": [
    {
     "name": "stdout",
     "output_type": "stream",
     "text": [
      "                           Logit Regression Results                           \n",
      "==============================================================================\n",
      "Dep. Variable:              newincome   No. Observations:                45222\n",
      "Model:                          Logit   Df Residuals:                    45206\n",
      "Method:                           MLE   Df Model:                           15\n",
      "Date:                Wed, 08 Aug 2018   Pseudo R-squ.:                  0.1137\n",
      "Time:                        21:07:04   Log-Likelihood:                -22442.\n",
      "converged:                       True   LL-Null:                       -25322.\n",
      "                                        LLR p-value:                     0.000\n",
      "====================================================================================================\n",
      "                                       coef    std err          z      P>|z|      [0.025      0.975]\n",
      "----------------------------------------------------------------------------------------------------\n",
      "Intercept                           -2.6329      0.114    -23.029      0.000      -2.857      -2.409\n",
      "education_level[T. 11th]            -0.2114      0.158     -1.338      0.181      -0.521       0.098\n",
      "education_level[T. 12th]             0.1137      0.195      0.582      0.561      -0.269       0.497\n",
      "education_level[T. 1st-4th]         -0.6536      0.378     -1.730      0.084      -1.394       0.087\n",
      "education_level[T. 5th-6th]         -0.3328      0.247     -1.349      0.177      -0.816       0.151\n",
      "education_level[T. 7th-8th]         -0.0035      0.180     -0.019      0.984      -0.357       0.350\n",
      "education_level[T. 9th]             -0.1878      0.202     -0.928      0.353      -0.584       0.209\n",
      "education_level[T. Assoc-acdm]       1.6082      0.128     12.525      0.000       1.357       1.860\n",
      "education_level[T. Assoc-voc]        1.5728      0.125     12.535      0.000       1.327       1.819\n",
      "education_level[T. Bachelors]        2.3094      0.117     19.793      0.000       2.081       2.538\n",
      "education_level[T. Doctorate]        3.6452      0.150     24.315      0.000       3.351       3.939\n",
      "education_level[T. HS-grad]          1.0000      0.116      8.586      0.000       0.772       1.228\n",
      "education_level[T. Masters]          2.8502      0.121     23.523      0.000       2.613       3.088\n",
      "education_level[T. Preschool]       -1.6297      1.013     -1.608      0.108      -3.616       0.357\n",
      "education_level[T. Prof-school]      3.7538      0.141     26.582      0.000       3.477       4.031\n",
      "education_level[T. Some-college]     1.2531      0.117     10.706      0.000       1.024       1.482\n",
      "====================================================================================================\n"
     ]
    }
   ],
   "source": [
    "print(legref2.summary())"
   ]
  },
  {
   "cell_type": "code",
   "execution_count": 19,
   "metadata": {},
   "outputs": [
    {
     "data": {
      "text/html": [
       "<div>\n",
       "<style>\n",
       "    .dataframe thead tr:only-child th {\n",
       "        text-align: right;\n",
       "    }\n",
       "\n",
       "    .dataframe thead th {\n",
       "        text-align: left;\n",
       "    }\n",
       "\n",
       "    .dataframe tbody tr th {\n",
       "        vertical-align: top;\n",
       "    }\n",
       "</style>\n",
       "<table border=\"1\" class=\"dataframe\">\n",
       "  <thead>\n",
       "    <tr style=\"text-align: right;\">\n",
       "      <th>workclass</th>\n",
       "      <th>Federal-gov</th>\n",
       "      <th>Local-gov</th>\n",
       "      <th>Private</th>\n",
       "      <th>Self-emp-inc</th>\n",
       "      <th>Self-emp-not-inc</th>\n",
       "      <th>State-gov</th>\n",
       "      <th>Without-pay</th>\n",
       "    </tr>\n",
       "    <tr>\n",
       "      <th>newincome</th>\n",
       "      <th></th>\n",
       "      <th></th>\n",
       "      <th></th>\n",
       "      <th></th>\n",
       "      <th></th>\n",
       "      <th></th>\n",
       "      <th></th>\n",
       "    </tr>\n",
       "  </thead>\n",
       "  <tbody>\n",
       "    <tr>\n",
       "      <th>0</th>\n",
       "      <td>857</td>\n",
       "      <td>2185</td>\n",
       "      <td>26056</td>\n",
       "      <td>734</td>\n",
       "      <td>2737</td>\n",
       "      <td>1426</td>\n",
       "      <td>19</td>\n",
       "    </tr>\n",
       "    <tr>\n",
       "      <th>1</th>\n",
       "      <td>549</td>\n",
       "      <td>915</td>\n",
       "      <td>7251</td>\n",
       "      <td>912</td>\n",
       "      <td>1059</td>\n",
       "      <td>520</td>\n",
       "      <td>2</td>\n",
       "    </tr>\n",
       "  </tbody>\n",
       "</table>\n",
       "</div>"
      ],
      "text/plain": [
       "workclass   Federal-gov   Local-gov   Private   Self-emp-inc  \\\n",
       "newincome                                                      \n",
       "0                   857        2185     26056            734   \n",
       "1                   549         915      7251            912   \n",
       "\n",
       "workclass   Self-emp-not-inc   State-gov   Without-pay  \n",
       "newincome                                               \n",
       "0                       2737        1426            19  \n",
       "1                       1059         520             2  "
      ]
     },
     "execution_count": 19,
     "metadata": {},
     "output_type": "execute_result"
    }
   ],
   "source": [
    "# chi square analysis\n",
    "\n",
    "\n",
    "#h0 : income is independent of workclass\n",
    "#ha : income is not independent of workclass \n",
    "\n",
    "pd.crosstab(index=df['newincome'],columns=df['workclass'])"
   ]
  },
  {
   "cell_type": "code",
   "execution_count": 20,
   "metadata": {},
   "outputs": [
    {
     "data": {
      "text/plain": [
       "(1207.2599145482257,\n",
       " 1.2846681555116699e-257,\n",
       " 6,\n",
       " array([[  1.05753138e+03,   2.33168369e+03,   2.50520609e+04,\n",
       "           1.23804883e+03,   2.85518429e+03,   1.46369563e+03,\n",
       "           1.57952766e+01],\n",
       "        [  3.48468621e+02,   7.68316306e+02,   8.25493910e+03,\n",
       "           4.07951174e+02,   9.40815709e+02,   4.82304365e+02,\n",
       "           5.20472336e+00]]))"
      ]
     },
     "execution_count": 20,
     "metadata": {},
     "output_type": "execute_result"
    }
   ],
   "source": [
    "chi2_contingency(pd.crosstab(df.newincome, df.workclass))"
   ]
  },
  {
   "cell_type": "code",
   "execution_count": 21,
   "metadata": {},
   "outputs": [
    {
     "name": "stdout",
     "output_type": "stream",
     "text": [
      "===Chi2 Stat===\n",
      "1207.25991455\n",
      "\n",
      "\n",
      "===Degrees of Freedom===\n",
      "6\n",
      "\n",
      "\n",
      "===P-Value===\n",
      "1.28466815551e-257\n",
      "\n",
      "\n",
      "===Contingency Table===\n",
      "[[  1.05753138e+03   2.33168369e+03   2.50520609e+04   1.23804883e+03\n",
      "    2.85518429e+03   1.46369563e+03   1.57952766e+01]\n",
      " [  3.48468621e+02   7.68316306e+02   8.25493910e+03   4.07951174e+02\n",
      "    9.40815709e+02   4.82304365e+02   5.20472336e+00]]\n"
     ]
    }
   ],
   "source": [
    "chi2_stat, p_val, dof, ex = chi2_contingency(pd.crosstab(df.newincome, df.workclass))\n",
    "print(\"===Chi2 Stat===\")\n",
    "print(chi2_stat)\n",
    "print(\"\\n\")\n",
    "print(\"===Degrees of Freedom===\")\n",
    "print(dof)\n",
    "print(\"\\n\")\n",
    "print(\"===P-Value===\")\n",
    "print(p_val)\n",
    "print(\"\\n\")\n",
    "print(\"===Contingency Table===\")\n",
    "print(ex)"
   ]
  },
  {
   "cell_type": "code",
   "execution_count": 22,
   "metadata": {},
   "outputs": [
    {
     "data": {
      "text/html": [
       "<div>\n",
       "<style>\n",
       "    .dataframe thead tr:only-child th {\n",
       "        text-align: right;\n",
       "    }\n",
       "\n",
       "    .dataframe thead th {\n",
       "        text-align: left;\n",
       "    }\n",
       "\n",
       "    .dataframe tbody tr th {\n",
       "        vertical-align: top;\n",
       "    }\n",
       "</style>\n",
       "<table border=\"1\" class=\"dataframe\">\n",
       "  <thead>\n",
       "    <tr style=\"text-align: right;\">\n",
       "      <th>occupation</th>\n",
       "      <th>Adm-clerical</th>\n",
       "      <th>Armed-Forces</th>\n",
       "      <th>Craft-repair</th>\n",
       "      <th>Exec-managerial</th>\n",
       "      <th>Farming-fishing</th>\n",
       "      <th>Handlers-cleaners</th>\n",
       "      <th>Machine-op-inspct</th>\n",
       "      <th>Other-service</th>\n",
       "      <th>Priv-house-serv</th>\n",
       "      <th>Prof-specialty</th>\n",
       "      <th>Protective-serv</th>\n",
       "      <th>Sales</th>\n",
       "      <th>Tech-support</th>\n",
       "      <th>Transport-moving</th>\n",
       "    </tr>\n",
       "    <tr>\n",
       "      <th>newincome</th>\n",
       "      <th></th>\n",
       "      <th></th>\n",
       "      <th></th>\n",
       "      <th></th>\n",
       "      <th></th>\n",
       "      <th></th>\n",
       "      <th></th>\n",
       "      <th></th>\n",
       "      <th></th>\n",
       "      <th></th>\n",
       "      <th></th>\n",
       "      <th></th>\n",
       "      <th></th>\n",
       "      <th></th>\n",
       "    </tr>\n",
       "  </thead>\n",
       "  <tbody>\n",
       "    <tr>\n",
       "      <th>0</th>\n",
       "      <td>4784</td>\n",
       "      <td>10</td>\n",
       "      <td>4665</td>\n",
       "      <td>3117</td>\n",
       "      <td>1308</td>\n",
       "      <td>1911</td>\n",
       "      <td>2605</td>\n",
       "      <td>4612</td>\n",
       "      <td>229</td>\n",
       "      <td>3304</td>\n",
       "      <td>669</td>\n",
       "      <td>3953</td>\n",
       "      <td>1009</td>\n",
       "      <td>1838</td>\n",
       "    </tr>\n",
       "    <tr>\n",
       "      <th>1</th>\n",
       "      <td>756</td>\n",
       "      <td>4</td>\n",
       "      <td>1355</td>\n",
       "      <td>2867</td>\n",
       "      <td>172</td>\n",
       "      <td>135</td>\n",
       "      <td>365</td>\n",
       "      <td>196</td>\n",
       "      <td>3</td>\n",
       "      <td>2704</td>\n",
       "      <td>307</td>\n",
       "      <td>1455</td>\n",
       "      <td>411</td>\n",
       "      <td>478</td>\n",
       "    </tr>\n",
       "  </tbody>\n",
       "</table>\n",
       "</div>"
      ],
      "text/plain": [
       "occupation   Adm-clerical   Armed-Forces   Craft-repair   Exec-managerial  \\\n",
       "newincome                                                                   \n",
       "0                    4784             10           4665              3117   \n",
       "1                     756              4           1355              2867   \n",
       "\n",
       "occupation   Farming-fishing   Handlers-cleaners   Machine-op-inspct  \\\n",
       "newincome                                                              \n",
       "0                       1308                1911                2605   \n",
       "1                        172                 135                 365   \n",
       "\n",
       "occupation   Other-service   Priv-house-serv   Prof-specialty  \\\n",
       "newincome                                                       \n",
       "0                     4612               229             3304   \n",
       "1                      196                 3             2704   \n",
       "\n",
       "occupation   Protective-serv   Sales   Tech-support   Transport-moving  \n",
       "newincome                                                               \n",
       "0                        669    3953           1009               1838  \n",
       "1                        307    1455            411                478  "
      ]
     },
     "execution_count": 22,
     "metadata": {},
     "output_type": "execute_result"
    }
   ],
   "source": [
    "#To check the association between these variables and income\n",
    "#df['education_level']\n",
    "#df['marital-status']\n",
    "#df['sex']\n",
    "#df['race']\n",
    "#df['occupation']\n",
    "#df['relationship']\n",
    "#df['hours-per-week']\n",
    "pd.crosstab(df.newincome, df['occupation'])\n",
    "\n"
   ]
  },
  {
   "cell_type": "code",
   "execution_count": 23,
   "metadata": {
    "collapsed": true
   },
   "outputs": [],
   "source": [
    "chi2_stat, p_val_education_level, dof, ex = chi2_contingency(pd.crosstab(df.newincome, df.education_level))"
   ]
  },
  {
   "cell_type": "code",
   "execution_count": 31,
   "metadata": {},
   "outputs": [],
   "source": [
    "chi2_stat, p_val_marital_status, dof, ex = chi2_contingency(pd.crosstab(df.newincome, df['marital_status']))"
   ]
  },
  {
   "cell_type": "code",
   "execution_count": 25,
   "metadata": {
    "collapsed": true
   },
   "outputs": [],
   "source": [
    "chi2_stat, p_val_sex, dof, ex = chi2_contingency(pd.crosstab(df.newincome, df['sex']))"
   ]
  },
  {
   "cell_type": "code",
   "execution_count": 26,
   "metadata": {
    "collapsed": true
   },
   "outputs": [],
   "source": [
    "chi2_stat, p_val_race, dof, ex = chi2_contingency(pd.crosstab(df.newincome, df['race']))"
   ]
  },
  {
   "cell_type": "code",
   "execution_count": 27,
   "metadata": {
    "collapsed": true
   },
   "outputs": [],
   "source": [
    "chi2_stat, p_val_occupation, dof, ex = chi2_contingency(pd.crosstab(df.newincome, df['occupation']))"
   ]
  },
  {
   "cell_type": "code",
   "execution_count": 28,
   "metadata": {
    "collapsed": true
   },
   "outputs": [],
   "source": [
    "chi2_stat, p_val_relationship, dof, ex = chi2_contingency(pd.crosstab(df.newincome, df['relationship']))"
   ]
  },
  {
   "cell_type": "code",
   "execution_count": 30,
   "metadata": {},
   "outputs": [],
   "source": [
    "chi2_stat, p_val_hr_per, dof, ex = chi2_contingency(pd.crosstab(df.newincome, df['hrs_per_week']))"
   ]
  },
  {
   "cell_type": "code",
   "execution_count": 32,
   "metadata": {},
   "outputs": [
    {
     "name": "stdout",
     "output_type": "stream",
     "text": [
      "0.0\n"
     ]
    }
   ],
   "source": [
    "# all the p values are significant atalpha=0.05  and we reject null\n",
    "#thus we need to find the strength of association amongst the variables and we'll use Cramer's V for that\n",
    "\n",
    "\n",
    "print(p_val_education_level)"
   ]
  },
  {
   "cell_type": "code",
   "execution_count": 33,
   "metadata": {},
   "outputs": [
    {
     "data": {
      "text/plain": [
       "0.0"
      ]
     },
     "execution_count": 33,
     "metadata": {},
     "output_type": "execute_result"
    }
   ],
   "source": [
    "p_val_marital_status"
   ]
  },
  {
   "cell_type": "code",
   "execution_count": 34,
   "metadata": {},
   "outputs": [
    {
     "data": {
      "text/plain": [
       "0.0"
      ]
     },
     "execution_count": 34,
     "metadata": {},
     "output_type": "execute_result"
    }
   ],
   "source": [
    "p_val_sex"
   ]
  },
  {
   "cell_type": "code",
   "execution_count": 35,
   "metadata": {},
   "outputs": [
    {
     "data": {
      "text/plain": [
       "1.3794458063304673e-96"
      ]
     },
     "execution_count": 35,
     "metadata": {},
     "output_type": "execute_result"
    }
   ],
   "source": [
    "p_val_race"
   ]
  },
  {
   "cell_type": "code",
   "execution_count": 36,
   "metadata": {},
   "outputs": [
    {
     "data": {
      "text/plain": [
       "0.0"
      ]
     },
     "execution_count": 36,
     "metadata": {},
     "output_type": "execute_result"
    }
   ],
   "source": [
    "p_val_occupation"
   ]
  },
  {
   "cell_type": "code",
   "execution_count": 37,
   "metadata": {},
   "outputs": [
    {
     "data": {
      "text/plain": [
       "0.0"
      ]
     },
     "execution_count": 37,
     "metadata": {},
     "output_type": "execute_result"
    }
   ],
   "source": [
    "p_val_relationship"
   ]
  },
  {
   "cell_type": "code",
   "execution_count": 38,
   "metadata": {},
   "outputs": [
    {
     "data": {
      "text/plain": [
       "0.0"
      ]
     },
     "execution_count": 38,
     "metadata": {},
     "output_type": "execute_result"
    }
   ],
   "source": [
    "p_val_hr_per"
   ]
  },
  {
   "cell_type": "code",
   "execution_count": 39,
   "metadata": {},
   "outputs": [],
   "source": [
    "#Cramer's V to decide the strength of the association between variables\n",
    "def cramers_stat(confusion_matrix):\n",
    "    chi2 = stats.chi2_contingency(confusion_matrix)[0]\n",
    "    n = confusion_matrix.sum()\n",
    "    return np.sqrt(chi2 / (n*(min(confusion_matrix.shape)-1)))"
   ]
  },
  {
   "cell_type": "code",
   "execution_count": 29,
   "metadata": {
    "collapsed": true
   },
   "outputs": [],
   "source": []
  },
  {
   "cell_type": "code",
   "execution_count": 43,
   "metadata": {
    "collapsed": true
   },
   "outputs": [],
   "source": [
    "def cramers_test(confusion_m):\n",
    "    confusion_matrix=confusion_m.values\n",
    "    chi2=chi2_contingency(confusion_matrix)[0]\n",
    "    n=np.sum(confusion_matrix)\n",
    "    return np.sqrt(chi2/(n*min(confusion_matrix.shape)-1))"
   ]
  },
  {
   "cell_type": "code",
   "execution_count": 41,
   "metadata": {},
   "outputs": [],
   "source": [
    "# categorical- values\n",
    "#df['education_level']\n",
    "#df['marital-status']\n",
    "#df['sex']\n",
    "#df['race']\n",
    "#df['occupation']\n",
    "#df['relationship']\n",
    "#df['hours-per-week']\n",
    "\n",
    "confusion_education=pd.crosstab(index=df['newincome'],columns=df['education_level'])\n",
    "confusion_marital=pd.crosstab(index=df['newincome'],columns=df['marital_status'])\n",
    "confusion_sex=pd.crosstab(index=df['newincome'],columns=df['sex'])\n",
    "confusion_race=pd.crosstab(index=df['newincome'],columns=df['race'])\n",
    "confusion_occupation=pd.crosstab(index=df['newincome'],columns=df['occupation'])\n",
    "confusion_relationship=pd.crosstab(index=df['newincome'],columns=df['relationship'])"
   ]
  },
  {
   "cell_type": "code",
   "execution_count": 44,
   "metadata": {},
   "outputs": [],
   "source": [
    "education_corr=cramers_test (confusion_education)\n",
    "marital_corr=cramers_test(confusion_marital)\n",
    "sex_corr=cramers_test(confusion_sex)\n",
    "race_corr=cramers_test(confusion_race)\n",
    "occupation_corr=cramers_test(confusion_occupation)\n",
    "relationship_corr=cramers_test(confusion_relationship)"
   ]
  },
  {
   "cell_type": "code",
   "execution_count": 45,
   "metadata": {},
   "outputs": [
    {
     "data": {
      "text/plain": [
       "0.25747996547236363"
      ]
     },
     "execution_count": 45,
     "metadata": {},
     "output_type": "execute_result"
    }
   ],
   "source": [
    "education_corr"
   ]
  },
  {
   "cell_type": "code",
   "execution_count": 46,
   "metadata": {},
   "outputs": [
    {
     "data": {
      "text/plain": [
       "0.31736085051394791"
      ]
     },
     "execution_count": 46,
     "metadata": {},
     "output_type": "execute_result"
    }
   ],
   "source": [
    "marital_corr"
   ]
  },
  {
   "cell_type": "code",
   "execution_count": 47,
   "metadata": {},
   "outputs": [
    {
     "data": {
      "text/plain": [
       "0.15252786402746829"
      ]
     },
     "execution_count": 47,
     "metadata": {},
     "output_type": "execute_result"
    }
   ],
   "source": [
    "# has the lowest correlation against the dependent variable\n",
    "sex_corr"
   ]
  },
  {
   "cell_type": "code",
   "execution_count": 48,
   "metadata": {},
   "outputs": [
    {
     "data": {
      "text/plain": [
       "0.070717652750829682"
      ]
     },
     "execution_count": 48,
     "metadata": {},
     "output_type": "execute_result"
    }
   ],
   "source": [
    "race_corr"
   ]
  },
  {
   "cell_type": "code",
   "execution_count": 49,
   "metadata": {},
   "outputs": [
    {
     "data": {
      "text/plain": [
       "0.24469059419384814"
      ]
     },
     "execution_count": 49,
     "metadata": {},
     "output_type": "execute_result"
    }
   ],
   "source": [
    "occupation_corr"
   ]
  },
  {
   "cell_type": "code",
   "execution_count": 50,
   "metadata": {},
   "outputs": [
    {
     "data": {
      "text/plain": [
       "0.32164861523397892"
      ]
     },
     "execution_count": 50,
     "metadata": {},
     "output_type": "execute_result"
    }
   ],
   "source": [
    "relationship_corr"
   ]
  },
  {
   "cell_type": "code",
   "execution_count": 51,
   "metadata": {
    "scrolled": false
   },
   "outputs": [
    {
     "data": {
      "text/html": [
       "<div>\n",
       "<style>\n",
       "    .dataframe thead tr:only-child th {\n",
       "        text-align: right;\n",
       "    }\n",
       "\n",
       "    .dataframe thead th {\n",
       "        text-align: left;\n",
       "    }\n",
       "\n",
       "    .dataframe tbody tr th {\n",
       "        vertical-align: top;\n",
       "    }\n",
       "</style>\n",
       "<table border=\"1\" class=\"dataframe\">\n",
       "  <thead>\n",
       "    <tr style=\"text-align: right;\">\n",
       "      <th></th>\n",
       "      <th>relationship</th>\n",
       "      <th>marital_status</th>\n",
       "    </tr>\n",
       "  </thead>\n",
       "  <tbody>\n",
       "    <tr>\n",
       "      <th>0</th>\n",
       "      <td>Not-in-family</td>\n",
       "      <td>Never-married</td>\n",
       "    </tr>\n",
       "    <tr>\n",
       "      <th>1</th>\n",
       "      <td>Husband</td>\n",
       "      <td>Married-civ-spouse</td>\n",
       "    </tr>\n",
       "    <tr>\n",
       "      <th>2</th>\n",
       "      <td>Not-in-family</td>\n",
       "      <td>Divorced</td>\n",
       "    </tr>\n",
       "    <tr>\n",
       "      <th>3</th>\n",
       "      <td>Husband</td>\n",
       "      <td>Married-civ-spouse</td>\n",
       "    </tr>\n",
       "    <tr>\n",
       "      <th>4</th>\n",
       "      <td>Wife</td>\n",
       "      <td>Married-civ-spouse</td>\n",
       "    </tr>\n",
       "    <tr>\n",
       "      <th>5</th>\n",
       "      <td>Wife</td>\n",
       "      <td>Married-civ-spouse</td>\n",
       "    </tr>\n",
       "    <tr>\n",
       "      <th>6</th>\n",
       "      <td>Not-in-family</td>\n",
       "      <td>Married-spouse-absent</td>\n",
       "    </tr>\n",
       "    <tr>\n",
       "      <th>7</th>\n",
       "      <td>Husband</td>\n",
       "      <td>Married-civ-spouse</td>\n",
       "    </tr>\n",
       "    <tr>\n",
       "      <th>8</th>\n",
       "      <td>Not-in-family</td>\n",
       "      <td>Never-married</td>\n",
       "    </tr>\n",
       "    <tr>\n",
       "      <th>9</th>\n",
       "      <td>Husband</td>\n",
       "      <td>Married-civ-spouse</td>\n",
       "    </tr>\n",
       "    <tr>\n",
       "      <th>10</th>\n",
       "      <td>Husband</td>\n",
       "      <td>Married-civ-spouse</td>\n",
       "    </tr>\n",
       "    <tr>\n",
       "      <th>11</th>\n",
       "      <td>Husband</td>\n",
       "      <td>Married-civ-spouse</td>\n",
       "    </tr>\n",
       "    <tr>\n",
       "      <th>12</th>\n",
       "      <td>Own-child</td>\n",
       "      <td>Never-married</td>\n",
       "    </tr>\n",
       "    <tr>\n",
       "      <th>13</th>\n",
       "      <td>Not-in-family</td>\n",
       "      <td>Never-married</td>\n",
       "    </tr>\n",
       "    <tr>\n",
       "      <th>14</th>\n",
       "      <td>Husband</td>\n",
       "      <td>Married-civ-spouse</td>\n",
       "    </tr>\n",
       "    <tr>\n",
       "      <th>15</th>\n",
       "      <td>Own-child</td>\n",
       "      <td>Never-married</td>\n",
       "    </tr>\n",
       "    <tr>\n",
       "      <th>16</th>\n",
       "      <td>Unmarried</td>\n",
       "      <td>Never-married</td>\n",
       "    </tr>\n",
       "    <tr>\n",
       "      <th>17</th>\n",
       "      <td>Husband</td>\n",
       "      <td>Married-civ-spouse</td>\n",
       "    </tr>\n",
       "    <tr>\n",
       "      <th>18</th>\n",
       "      <td>Unmarried</td>\n",
       "      <td>Divorced</td>\n",
       "    </tr>\n",
       "    <tr>\n",
       "      <th>19</th>\n",
       "      <td>Husband</td>\n",
       "      <td>Married-civ-spouse</td>\n",
       "    </tr>\n",
       "    <tr>\n",
       "      <th>20</th>\n",
       "      <td>Unmarried</td>\n",
       "      <td>Separated</td>\n",
       "    </tr>\n",
       "    <tr>\n",
       "      <th>21</th>\n",
       "      <td>Husband</td>\n",
       "      <td>Married-civ-spouse</td>\n",
       "    </tr>\n",
       "    <tr>\n",
       "      <th>22</th>\n",
       "      <td>Husband</td>\n",
       "      <td>Married-civ-spouse</td>\n",
       "    </tr>\n",
       "    <tr>\n",
       "      <th>23</th>\n",
       "      <td>Unmarried</td>\n",
       "      <td>Divorced</td>\n",
       "    </tr>\n",
       "    <tr>\n",
       "      <th>24</th>\n",
       "      <td>Husband</td>\n",
       "      <td>Married-civ-spouse</td>\n",
       "    </tr>\n",
       "    <tr>\n",
       "      <th>25</th>\n",
       "      <td>Own-child</td>\n",
       "      <td>Never-married</td>\n",
       "    </tr>\n",
       "    <tr>\n",
       "      <th>26</th>\n",
       "      <td>Not-in-family</td>\n",
       "      <td>Divorced</td>\n",
       "    </tr>\n",
       "    <tr>\n",
       "      <th>27</th>\n",
       "      <td>Husband</td>\n",
       "      <td>Married-civ-spouse</td>\n",
       "    </tr>\n",
       "    <tr>\n",
       "      <th>28</th>\n",
       "      <td>Not-in-family</td>\n",
       "      <td>Never-married</td>\n",
       "    </tr>\n",
       "    <tr>\n",
       "      <th>29</th>\n",
       "      <td>Own-child</td>\n",
       "      <td>Never-married</td>\n",
       "    </tr>\n",
       "    <tr>\n",
       "      <th>...</th>\n",
       "      <td>...</td>\n",
       "      <td>...</td>\n",
       "    </tr>\n",
       "    <tr>\n",
       "      <th>45192</th>\n",
       "      <td>Not-in-family</td>\n",
       "      <td>Divorced</td>\n",
       "    </tr>\n",
       "    <tr>\n",
       "      <th>45193</th>\n",
       "      <td>Not-in-family</td>\n",
       "      <td>Never-married</td>\n",
       "    </tr>\n",
       "    <tr>\n",
       "      <th>45194</th>\n",
       "      <td>Husband</td>\n",
       "      <td>Married-civ-spouse</td>\n",
       "    </tr>\n",
       "    <tr>\n",
       "      <th>45195</th>\n",
       "      <td>Husband</td>\n",
       "      <td>Married-civ-spouse</td>\n",
       "    </tr>\n",
       "    <tr>\n",
       "      <th>45196</th>\n",
       "      <td>Not-in-family</td>\n",
       "      <td>Never-married</td>\n",
       "    </tr>\n",
       "    <tr>\n",
       "      <th>45197</th>\n",
       "      <td>Husband</td>\n",
       "      <td>Married-civ-spouse</td>\n",
       "    </tr>\n",
       "    <tr>\n",
       "      <th>45198</th>\n",
       "      <td>Husband</td>\n",
       "      <td>Married-civ-spouse</td>\n",
       "    </tr>\n",
       "    <tr>\n",
       "      <th>45199</th>\n",
       "      <td>Own-child</td>\n",
       "      <td>Never-married</td>\n",
       "    </tr>\n",
       "    <tr>\n",
       "      <th>45200</th>\n",
       "      <td>Not-in-family</td>\n",
       "      <td>Divorced</td>\n",
       "    </tr>\n",
       "    <tr>\n",
       "      <th>45201</th>\n",
       "      <td>Husband</td>\n",
       "      <td>Married-civ-spouse</td>\n",
       "    </tr>\n",
       "    <tr>\n",
       "      <th>45202</th>\n",
       "      <td>Other-relative</td>\n",
       "      <td>Widowed</td>\n",
       "    </tr>\n",
       "    <tr>\n",
       "      <th>45203</th>\n",
       "      <td>Not-in-family</td>\n",
       "      <td>Never-married</td>\n",
       "    </tr>\n",
       "    <tr>\n",
       "      <th>45204</th>\n",
       "      <td>Husband</td>\n",
       "      <td>Married-civ-spouse</td>\n",
       "    </tr>\n",
       "    <tr>\n",
       "      <th>45205</th>\n",
       "      <td>Husband</td>\n",
       "      <td>Married-civ-spouse</td>\n",
       "    </tr>\n",
       "    <tr>\n",
       "      <th>45206</th>\n",
       "      <td>Own-child</td>\n",
       "      <td>Never-married</td>\n",
       "    </tr>\n",
       "    <tr>\n",
       "      <th>45207</th>\n",
       "      <td>Not-in-family</td>\n",
       "      <td>Widowed</td>\n",
       "    </tr>\n",
       "    <tr>\n",
       "      <th>45208</th>\n",
       "      <td>Not-in-family</td>\n",
       "      <td>Separated</td>\n",
       "    </tr>\n",
       "    <tr>\n",
       "      <th>45209</th>\n",
       "      <td>Unmarried</td>\n",
       "      <td>Never-married</td>\n",
       "    </tr>\n",
       "    <tr>\n",
       "      <th>45210</th>\n",
       "      <td>Not-in-family</td>\n",
       "      <td>Divorced</td>\n",
       "    </tr>\n",
       "    <tr>\n",
       "      <th>45211</th>\n",
       "      <td>Husband</td>\n",
       "      <td>Married-civ-spouse</td>\n",
       "    </tr>\n",
       "    <tr>\n",
       "      <th>45212</th>\n",
       "      <td>Husband</td>\n",
       "      <td>Married-civ-spouse</td>\n",
       "    </tr>\n",
       "    <tr>\n",
       "      <th>45213</th>\n",
       "      <td>Husband</td>\n",
       "      <td>Married-civ-spouse</td>\n",
       "    </tr>\n",
       "    <tr>\n",
       "      <th>45214</th>\n",
       "      <td>Husband</td>\n",
       "      <td>Married-civ-spouse</td>\n",
       "    </tr>\n",
       "    <tr>\n",
       "      <th>45215</th>\n",
       "      <td>Own-child</td>\n",
       "      <td>Never-married</td>\n",
       "    </tr>\n",
       "    <tr>\n",
       "      <th>45216</th>\n",
       "      <td>Not-in-family</td>\n",
       "      <td>Divorced</td>\n",
       "    </tr>\n",
       "    <tr>\n",
       "      <th>45217</th>\n",
       "      <td>Own-child</td>\n",
       "      <td>Never-married</td>\n",
       "    </tr>\n",
       "    <tr>\n",
       "      <th>45218</th>\n",
       "      <td>Not-in-family</td>\n",
       "      <td>Divorced</td>\n",
       "    </tr>\n",
       "    <tr>\n",
       "      <th>45219</th>\n",
       "      <td>Husband</td>\n",
       "      <td>Married-civ-spouse</td>\n",
       "    </tr>\n",
       "    <tr>\n",
       "      <th>45220</th>\n",
       "      <td>Own-child</td>\n",
       "      <td>Divorced</td>\n",
       "    </tr>\n",
       "    <tr>\n",
       "      <th>45221</th>\n",
       "      <td>Husband</td>\n",
       "      <td>Married-civ-spouse</td>\n",
       "    </tr>\n",
       "  </tbody>\n",
       "</table>\n",
       "<p>45222 rows × 2 columns</p>\n",
       "</div>"
      ],
      "text/plain": [
       "          relationship          marital_status\n",
       "0        Not-in-family           Never-married\n",
       "1              Husband      Married-civ-spouse\n",
       "2        Not-in-family                Divorced\n",
       "3              Husband      Married-civ-spouse\n",
       "4                 Wife      Married-civ-spouse\n",
       "5                 Wife      Married-civ-spouse\n",
       "6        Not-in-family   Married-spouse-absent\n",
       "7              Husband      Married-civ-spouse\n",
       "8        Not-in-family           Never-married\n",
       "9              Husband      Married-civ-spouse\n",
       "10             Husband      Married-civ-spouse\n",
       "11             Husband      Married-civ-spouse\n",
       "12           Own-child           Never-married\n",
       "13       Not-in-family           Never-married\n",
       "14             Husband      Married-civ-spouse\n",
       "15           Own-child           Never-married\n",
       "16           Unmarried           Never-married\n",
       "17             Husband      Married-civ-spouse\n",
       "18           Unmarried                Divorced\n",
       "19             Husband      Married-civ-spouse\n",
       "20           Unmarried               Separated\n",
       "21             Husband      Married-civ-spouse\n",
       "22             Husband      Married-civ-spouse\n",
       "23           Unmarried                Divorced\n",
       "24             Husband      Married-civ-spouse\n",
       "25           Own-child           Never-married\n",
       "26       Not-in-family                Divorced\n",
       "27             Husband      Married-civ-spouse\n",
       "28       Not-in-family           Never-married\n",
       "29           Own-child           Never-married\n",
       "...                ...                     ...\n",
       "45192    Not-in-family                Divorced\n",
       "45193    Not-in-family           Never-married\n",
       "45194          Husband      Married-civ-spouse\n",
       "45195          Husband      Married-civ-spouse\n",
       "45196    Not-in-family           Never-married\n",
       "45197          Husband      Married-civ-spouse\n",
       "45198          Husband      Married-civ-spouse\n",
       "45199        Own-child           Never-married\n",
       "45200    Not-in-family                Divorced\n",
       "45201          Husband      Married-civ-spouse\n",
       "45202   Other-relative                 Widowed\n",
       "45203    Not-in-family           Never-married\n",
       "45204          Husband      Married-civ-spouse\n",
       "45205          Husband      Married-civ-spouse\n",
       "45206        Own-child           Never-married\n",
       "45207    Not-in-family                 Widowed\n",
       "45208    Not-in-family               Separated\n",
       "45209        Unmarried           Never-married\n",
       "45210    Not-in-family                Divorced\n",
       "45211          Husband      Married-civ-spouse\n",
       "45212          Husband      Married-civ-spouse\n",
       "45213          Husband      Married-civ-spouse\n",
       "45214          Husband      Married-civ-spouse\n",
       "45215        Own-child           Never-married\n",
       "45216    Not-in-family                Divorced\n",
       "45217        Own-child           Never-married\n",
       "45218    Not-in-family                Divorced\n",
       "45219          Husband      Married-civ-spouse\n",
       "45220        Own-child                Divorced\n",
       "45221          Husband      Married-civ-spouse\n",
       "\n",
       "[45222 rows x 2 columns]"
      ]
     },
     "execution_count": 51,
     "metadata": {},
     "output_type": "execute_result"
    }
   ],
   "source": [
    "# redundant variable possibility\n",
    "df[['relationship','marital_status']]"
   ]
  },
  {
   "cell_type": "code",
   "execution_count": 52,
   "metadata": {},
   "outputs": [
    {
     "ename": "ValueError",
     "evalue": "The input `table` must be of shape (2, 2).",
     "output_type": "error",
     "traceback": [
      "\u001b[1;31m---------------------------------------------------------------------------\u001b[0m",
      "\u001b[1;31mValueError\u001b[0m                                Traceback (most recent call last)",
      "\u001b[1;32m<ipython-input-52-f7a221a8a28e>\u001b[0m in \u001b[0;36m<module>\u001b[1;34m()\u001b[0m\n\u001b[0;32m      2\u001b[0m \u001b[1;31m# atleast 5 inputs in each columns Fisher Exact test was adopted to do an independence test but apparently I could not find a code for that (please let me know if you can work around it)\u001b[0m\u001b[1;33m\u001b[0m\u001b[1;33m\u001b[0m\u001b[0m\n\u001b[0;32m      3\u001b[0m \u001b[1;31m#confusion_education.values\u001b[0m\u001b[1;33m\u001b[0m\u001b[1;33m\u001b[0m\u001b[0m\n\u001b[1;32m----> 4\u001b[1;33m \u001b[0mstats\u001b[0m\u001b[1;33m.\u001b[0m\u001b[0mfisher_exact\u001b[0m\u001b[1;33m(\u001b[0m\u001b[0mconfusion_education\u001b[0m\u001b[1;33m)\u001b[0m\u001b[1;33m\u001b[0m\u001b[0m\n\u001b[0m",
      "\u001b[1;32m~\\Anaconda4\\lib\\site-packages\\scipy\\stats\\stats.py\u001b[0m in \u001b[0;36mfisher_exact\u001b[1;34m(table, alternative)\u001b[0m\n\u001b[0;32m   3096\u001b[0m     \u001b[0mc\u001b[0m \u001b[1;33m=\u001b[0m \u001b[0mnp\u001b[0m\u001b[1;33m.\u001b[0m\u001b[0masarray\u001b[0m\u001b[1;33m(\u001b[0m\u001b[0mtable\u001b[0m\u001b[1;33m,\u001b[0m \u001b[0mdtype\u001b[0m\u001b[1;33m=\u001b[0m\u001b[0mnp\u001b[0m\u001b[1;33m.\u001b[0m\u001b[0mint64\u001b[0m\u001b[1;33m)\u001b[0m  \u001b[1;31m# int32 is not enough for the algorithm\u001b[0m\u001b[1;33m\u001b[0m\u001b[0m\n\u001b[0;32m   3097\u001b[0m     \u001b[1;32mif\u001b[0m \u001b[1;32mnot\u001b[0m \u001b[0mc\u001b[0m\u001b[1;33m.\u001b[0m\u001b[0mshape\u001b[0m \u001b[1;33m==\u001b[0m \u001b[1;33m(\u001b[0m\u001b[1;36m2\u001b[0m\u001b[1;33m,\u001b[0m \u001b[1;36m2\u001b[0m\u001b[1;33m)\u001b[0m\u001b[1;33m:\u001b[0m\u001b[1;33m\u001b[0m\u001b[0m\n\u001b[1;32m-> 3098\u001b[1;33m         \u001b[1;32mraise\u001b[0m \u001b[0mValueError\u001b[0m\u001b[1;33m(\u001b[0m\u001b[1;34m\"The input `table` must be of shape (2, 2).\"\u001b[0m\u001b[1;33m)\u001b[0m\u001b[1;33m\u001b[0m\u001b[0m\n\u001b[0m\u001b[0;32m   3099\u001b[0m \u001b[1;33m\u001b[0m\u001b[0m\n\u001b[0;32m   3100\u001b[0m     \u001b[1;32mif\u001b[0m \u001b[0mnp\u001b[0m\u001b[1;33m.\u001b[0m\u001b[0many\u001b[0m\u001b[1;33m(\u001b[0m\u001b[0mc\u001b[0m \u001b[1;33m<\u001b[0m \u001b[1;36m0\u001b[0m\u001b[1;33m)\u001b[0m\u001b[1;33m:\u001b[0m\u001b[1;33m\u001b[0m\u001b[0m\n",
      "\u001b[1;31mValueError\u001b[0m: The input `table` must be of shape (2, 2)."
     ]
    }
   ],
   "source": [
    "# since the assumption of Chisq was not met\n",
    "# atleast 5 inputs in each columns Fisher Exact test was adopted to do an independence test but apparently I could not find a code for that (please let me know if you can work around it)\n",
    "#confusion_education.values\n",
    "stats.fisher_exact(confusion_education)"
   ]
  },
  {
   "cell_type": "code",
   "execution_count": 27,
   "metadata": {
    "collapsed": true
   },
   "outputs": [
    {
     "ename": "ModuleNotFoundError",
     "evalue": "No module named '__main__.statlib'; '__main__' is not a package",
     "output_type": "error",
     "traceback": [
      "\u001b[1;31m---------------------------------------------------------------------------\u001b[0m",
      "\u001b[1;31mModuleNotFoundError\u001b[0m                       Traceback (most recent call last)",
      "\u001b[1;32m<ipython-input-27-ec29c8041017>\u001b[0m in \u001b[0;36m<module>\u001b[1;34m()\u001b[0m\n\u001b[0;32m      2\u001b[0m \u001b[1;32mimport\u001b[0m \u001b[0mscipy\u001b[0m\u001b[1;33m.\u001b[0m\u001b[0mstats\u001b[0m \u001b[1;32mas\u001b[0m \u001b[0mss\u001b[0m\u001b[1;33m\u001b[0m\u001b[0m\n\u001b[0;32m      3\u001b[0m \u001b[1;32mfrom\u001b[0m \u001b[0mscipy\u001b[0m\u001b[1;33m.\u001b[0m\u001b[0mspecial\u001b[0m \u001b[1;32mimport\u001b[0m \u001b[0mgammaln\u001b[0m \u001b[1;32mas\u001b[0m \u001b[0mlgamma\u001b[0m\u001b[1;33m\u001b[0m\u001b[0m\n\u001b[1;32m----> 4\u001b[1;33m \u001b[1;32mfrom\u001b[0m \u001b[1;33m.\u001b[0m\u001b[0mstatlib\u001b[0m \u001b[1;32mimport\u001b[0m \u001b[0mfexact\u001b[0m \u001b[1;32mas\u001b[0m \u001b[0mf\u001b[0m\u001b[1;33m\u001b[0m\u001b[0m\n\u001b[0m\u001b[0;32m      5\u001b[0m \u001b[1;32mfrom\u001b[0m \u001b[1;33m.\u001b[0m\u001b[0mstatlib\u001b[0m\u001b[1;33m.\u001b[0m\u001b[0mfexact\u001b[0m \u001b[1;32mimport\u001b[0m \u001b[0mfisher_exact\u001b[0m \u001b[1;32mas\u001b[0m \u001b[0mf_exact\u001b[0m\u001b[1;33m\u001b[0m\u001b[0m\n\u001b[0;32m      6\u001b[0m \u001b[1;32mfrom\u001b[0m \u001b[1;33m.\u001b[0m\u001b[0mstatlib\u001b[0m\u001b[1;33m.\u001b[0m\u001b[0masa159\u001b[0m \u001b[1;32mimport\u001b[0m \u001b[0mrcont2\u001b[0m\u001b[1;33m\u001b[0m\u001b[0m\n",
      "\u001b[1;31mModuleNotFoundError\u001b[0m: No module named '__main__.statlib'; '__main__' is not a package"
     ]
    }
   ],
   "source": [
    "import numpy as np\n",
    "import rpy2.robjects.numpy2ri\n",
    "from rpy2.robjects.packages import importr\n",
    "rpy2.robjects.numpy2ri.activate()\n",
    "\n",
    "stats = importr('stats')\n",
    "m = np.array([[4,4],[4,5],[10,6]])\n",
    "res = stats.fisher_test(m)\n",
    "print 'p-value: {}'.format(res[0][0])\n",
    ">> p-value: 0.668165917041"
   ]
  },
  {
   "cell_type": "code",
   "execution_count": 3,
   "metadata": {
    "collapsed": true
   },
   "outputs": [],
   "source": [
    "import numpy as np\n",
    "import rpy2.robjects.numpy2ri\n",
    "from rpy2.robjects.packages import importr\n",
    "rpy2.robjects.numpy2ri.activate()"
   ]
  },
  {
   "cell_type": "code",
   "execution_count": 9,
   "metadata": {
    "collapsed": true
   },
   "outputs": [],
   "source": [
    "confusion_m=pd.crosstab(index=df['newincome'], columns=df['education_level'])"
   ]
  },
  {
   "cell_type": "code",
   "execution_count": 11,
   "metadata": {
    "collapsed": true
   },
   "outputs": [],
   "source": [
    "confusion_matrix=confusion_m.values"
   ]
  },
  {
   "cell_type": "code",
   "execution_count": 14,
   "metadata": {},
   "outputs": [
    {
     "ename": "RRuntimeError",
     "evalue": "Error in (function (x, y = NULL, workspace = 2e+05, hybrid = FALSE, control = list(),  : \n  FEXACT error 7.\nLDSTP is too small for this problem.\nTry increasing the size of the workspace.\n",
     "output_type": "error",
     "traceback": [
      "\u001b[1;31m---------------------------------------------------------------------------\u001b[0m",
      "\u001b[1;31mRRuntimeError\u001b[0m                             Traceback (most recent call last)",
      "\u001b[1;32m<ipython-input-14-5480a5cefd05>\u001b[0m in \u001b[0;36m<module>\u001b[1;34m()\u001b[0m\n\u001b[0;32m      1\u001b[0m \u001b[0mstats\u001b[0m \u001b[1;33m=\u001b[0m \u001b[0mimportr\u001b[0m\u001b[1;33m(\u001b[0m\u001b[1;34m'stats'\u001b[0m\u001b[1;33m)\u001b[0m\u001b[1;33m\u001b[0m\u001b[0m\n\u001b[1;32m----> 2\u001b[1;33m \u001b[0mstats\u001b[0m\u001b[1;33m.\u001b[0m\u001b[0mfisher_test\u001b[0m\u001b[1;33m(\u001b[0m\u001b[0mconfusion_matrix\u001b[0m\u001b[1;33m)\u001b[0m\u001b[1;33m\u001b[0m\u001b[0m\n\u001b[0m",
      "\u001b[1;32m~\\Anaconda4\\lib\\site-packages\\rpy2-2.9.1-py3.6-win-amd64.egg\\rpy2\\robjects\\functions.py\u001b[0m in \u001b[0;36m__call__\u001b[1;34m(self, *args, **kwargs)\u001b[0m\n\u001b[0;32m    176\u001b[0m                 \u001b[0mv\u001b[0m \u001b[1;33m=\u001b[0m \u001b[0mkwargs\u001b[0m\u001b[1;33m.\u001b[0m\u001b[0mpop\u001b[0m\u001b[1;33m(\u001b[0m\u001b[0mk\u001b[0m\u001b[1;33m)\u001b[0m\u001b[1;33m\u001b[0m\u001b[0m\n\u001b[0;32m    177\u001b[0m                 \u001b[0mkwargs\u001b[0m\u001b[1;33m[\u001b[0m\u001b[0mr_k\u001b[0m\u001b[1;33m]\u001b[0m \u001b[1;33m=\u001b[0m \u001b[0mv\u001b[0m\u001b[1;33m\u001b[0m\u001b[0m\n\u001b[1;32m--> 178\u001b[1;33m         \u001b[1;32mreturn\u001b[0m \u001b[0msuper\u001b[0m\u001b[1;33m(\u001b[0m\u001b[0mSignatureTranslatedFunction\u001b[0m\u001b[1;33m,\u001b[0m \u001b[0mself\u001b[0m\u001b[1;33m)\u001b[0m\u001b[1;33m.\u001b[0m\u001b[0m__call__\u001b[0m\u001b[1;33m(\u001b[0m\u001b[1;33m*\u001b[0m\u001b[0margs\u001b[0m\u001b[1;33m,\u001b[0m \u001b[1;33m**\u001b[0m\u001b[0mkwargs\u001b[0m\u001b[1;33m)\u001b[0m\u001b[1;33m\u001b[0m\u001b[0m\n\u001b[0m\u001b[0;32m    179\u001b[0m \u001b[1;33m\u001b[0m\u001b[0m\n\u001b[0;32m    180\u001b[0m \u001b[0mpattern_link\u001b[0m \u001b[1;33m=\u001b[0m \u001b[0mre\u001b[0m\u001b[1;33m.\u001b[0m\u001b[0mcompile\u001b[0m\u001b[1;33m(\u001b[0m\u001b[1;34mr'\\\\link\\{(.+?)\\}'\u001b[0m\u001b[1;33m)\u001b[0m\u001b[1;33m\u001b[0m\u001b[0m\n",
      "\u001b[1;32m~\\Anaconda4\\lib\\site-packages\\rpy2-2.9.1-py3.6-win-amd64.egg\\rpy2\\robjects\\functions.py\u001b[0m in \u001b[0;36m__call__\u001b[1;34m(self, *args, **kwargs)\u001b[0m\n\u001b[0;32m    104\u001b[0m         \u001b[1;32mfor\u001b[0m \u001b[0mk\u001b[0m\u001b[1;33m,\u001b[0m \u001b[0mv\u001b[0m \u001b[1;32min\u001b[0m \u001b[0mkwargs\u001b[0m\u001b[1;33m.\u001b[0m\u001b[0mitems\u001b[0m\u001b[1;33m(\u001b[0m\u001b[1;33m)\u001b[0m\u001b[1;33m:\u001b[0m\u001b[1;33m\u001b[0m\u001b[0m\n\u001b[0;32m    105\u001b[0m             \u001b[0mnew_kwargs\u001b[0m\u001b[1;33m[\u001b[0m\u001b[0mk\u001b[0m\u001b[1;33m]\u001b[0m \u001b[1;33m=\u001b[0m \u001b[0mconversion\u001b[0m\u001b[1;33m.\u001b[0m\u001b[0mpy2ri\u001b[0m\u001b[1;33m(\u001b[0m\u001b[0mv\u001b[0m\u001b[1;33m)\u001b[0m\u001b[1;33m\u001b[0m\u001b[0m\n\u001b[1;32m--> 106\u001b[1;33m         \u001b[0mres\u001b[0m \u001b[1;33m=\u001b[0m \u001b[0msuper\u001b[0m\u001b[1;33m(\u001b[0m\u001b[0mFunction\u001b[0m\u001b[1;33m,\u001b[0m \u001b[0mself\u001b[0m\u001b[1;33m)\u001b[0m\u001b[1;33m.\u001b[0m\u001b[0m__call__\u001b[0m\u001b[1;33m(\u001b[0m\u001b[1;33m*\u001b[0m\u001b[0mnew_args\u001b[0m\u001b[1;33m,\u001b[0m \u001b[1;33m**\u001b[0m\u001b[0mnew_kwargs\u001b[0m\u001b[1;33m)\u001b[0m\u001b[1;33m\u001b[0m\u001b[0m\n\u001b[0m\u001b[0;32m    107\u001b[0m         \u001b[0mres\u001b[0m \u001b[1;33m=\u001b[0m \u001b[0mconversion\u001b[0m\u001b[1;33m.\u001b[0m\u001b[0mri2ro\u001b[0m\u001b[1;33m(\u001b[0m\u001b[0mres\u001b[0m\u001b[1;33m)\u001b[0m\u001b[1;33m\u001b[0m\u001b[0m\n\u001b[0;32m    108\u001b[0m         \u001b[1;32mreturn\u001b[0m \u001b[0mres\u001b[0m\u001b[1;33m\u001b[0m\u001b[0m\n",
      "\u001b[1;31mRRuntimeError\u001b[0m: Error in (function (x, y = NULL, workspace = 2e+05, hybrid = FALSE, control = list(),  : \n  FEXACT error 7.\nLDSTP is too small for this problem.\nTry increasing the size of the workspace.\n"
     ]
    }
   ],
   "source": [
    "stats = importr('stats')\n",
    "stats.fisher_test(confusion_matrix)"
   ]
  },
  {
   "cell_type": "code",
   "execution_count": 53,
   "metadata": {},
   "outputs": [
    {
     "name": "stdout",
     "output_type": "stream",
     "text": [
      "Optimization terminated successfully.\n",
      "         Current function value: 0.548148\n",
      "         Iterations 6\n",
      "                           Logit Regression Results                           \n",
      "==============================================================================\n",
      "Dep. Variable:              newincome   No. Observations:                45222\n",
      "Model:                          Logit   Df Residuals:                    45215\n",
      "Method:                           MLE   Df Model:                            6\n",
      "Date:                Wed, 08 Aug 2018   Pseudo R-squ.:                 0.02108\n",
      "Time:                        21:10:03   Log-Likelihood:                -24788.\n",
      "converged:                       True   LL-Null:                       -25322.\n",
      "                                        LLR p-value:                1.917e-227\n",
      "==================================================================================================\n",
      "                                     coef    std err          z      P>|z|      [0.025      0.975]\n",
      "--------------------------------------------------------------------------------------------------\n",
      "Intercept                         -0.4453      0.055     -8.147      0.000      -0.552      -0.338\n",
      "workclass[T. Local-gov]           -0.4251      0.067     -6.310      0.000      -0.557      -0.293\n",
      "workclass[T. Private]             -0.8338      0.056    -14.821      0.000      -0.944      -0.724\n",
      "workclass[T. Self-emp-inc]         0.6625      0.074      8.976      0.000       0.518       0.807\n",
      "workclass[T. Self-emp-not-inc]    -0.5042      0.066     -7.691      0.000      -0.633      -0.376\n",
      "workclass[T. State-gov]           -0.5635      0.075     -7.521      0.000      -0.710      -0.417\n",
      "workclass[T. Without-pay]         -1.8060      0.745     -2.423      0.015      -3.267      -0.345\n",
      "==================================================================================================\n"
     ]
    }
   ],
   "source": [
    "# step wise logistic regression to select top most important features in the model\n",
    "#+workclass+education_level+marital_status+occupation+relationship+race+sex+capital_gain+capital_loss+hrs_per_week'\n",
    "legref_1= smf.logit(formula='newincome ~ workclass', data=df).fit()\n",
    "print(legref_1.summary())"
   ]
  },
  {
   "cell_type": "code",
   "execution_count": 54,
   "metadata": {},
   "outputs": [
    {
     "name": "stdout",
     "output_type": "stream",
     "text": [
      "Optimization terminated successfully.\n",
      "         Current function value: 0.532330\n",
      "         Iterations 6\n",
      "                           Logit Regression Results                           \n",
      "==============================================================================\n",
      "Dep. Variable:              newincome   No. Observations:                45222\n",
      "Model:                          Logit   Df Residuals:                    45220\n",
      "Method:                           MLE   Df Model:                            1\n",
      "Date:                Wed, 08 Aug 2018   Pseudo R-squ.:                 0.04933\n",
      "Time:                        21:10:07   Log-Likelihood:                -24073.\n",
      "converged:                       True   LL-Null:                       -25322.\n",
      "                                        LLR p-value:                     0.000\n",
      "==============================================================================\n",
      "                 coef    std err          z      P>|z|      [0.025      0.975]\n",
      "------------------------------------------------------------------------------\n",
      "Intercept     -2.7672      0.037    -74.776      0.000      -2.840      -2.695\n",
      "age            0.0412      0.001     48.745      0.000       0.040       0.043\n",
      "==============================================================================\n"
     ]
    }
   ],
   "source": [
    "legref_1= smf.logit(formula='newincome ~ age', data=df).fit()\n",
    "print(legref_1.summary())"
   ]
  },
  {
   "cell_type": "code",
   "execution_count": 55,
   "metadata": {},
   "outputs": [
    {
     "name": "stdout",
     "output_type": "stream",
     "text": [
      "Optimization terminated successfully.\n",
      "         Current function value: 0.450613\n",
      "         Iterations 7\n",
      "                           Logit Regression Results                           \n",
      "==============================================================================\n",
      "Dep. Variable:              newincome   No. Observations:                45222\n",
      "Model:                          Logit   Df Residuals:                    45215\n",
      "Method:                           MLE   Df Model:                            6\n",
      "Date:                Wed, 08 Aug 2018   Pseudo R-squ.:                  0.1953\n",
      "Time:                        21:10:13   Log-Likelihood:                -20378.\n",
      "converged:                       True   LL-Null:                       -25322.\n",
      "                                        LLR p-value:                     0.000\n",
      "============================================================================================================\n",
      "                                               coef    std err          z      P>|z|      [0.025      0.975]\n",
      "------------------------------------------------------------------------------------------------------------\n",
      "Intercept                                   -2.1534      0.041    -52.166      0.000      -2.234      -2.072\n",
      "marital_status[T. Married-AF-spouse]         1.9020      0.359      5.302      0.000       1.199       2.605\n",
      "marital_status[T. Married-civ-spouse]        1.9698      0.044     45.243      0.000       1.884       2.055\n",
      "marital_status[T. Married-spouse-absent]    -0.0683      0.149     -0.458      0.647      -0.360       0.224\n",
      "marital_status[T. Never-married]            -0.8336      0.057    -14.730      0.000      -0.944      -0.723\n",
      "marital_status[T. Separated]                -0.4308      0.112     -3.843      0.000      -0.651      -0.211\n",
      "marital_status[T. Widowed]                  -0.1036      0.104     -0.995      0.320      -0.308       0.100\n",
      "============================================================================================================\n"
     ]
    }
   ],
   "source": [
    "# step wise logistic regression to select top most important features in the model\n",
    "#+workclass+education_level+marital_status+occupation+relationship+race+sex+capital_gain+capital_loss+hrs_per_week'\n",
    "legref_1= smf.logit(formula='newincome ~ marital_status', data=df).fit()\n",
    "print(legref_1.summary())"
   ]
  },
  {
   "cell_type": "code",
   "execution_count": 56,
   "metadata": {},
   "outputs": [
    {
     "name": "stdout",
     "output_type": "stream",
     "text": [
      "Optimization terminated successfully.\n",
      "         Current function value: 0.444987\n",
      "         Iterations 8\n",
      "                           Logit Regression Results                           \n",
      "==============================================================================\n",
      "Dep. Variable:              newincome   No. Observations:                45222\n",
      "Model:                          Logit   Df Residuals:                    45216\n",
      "Method:                           MLE   Df Model:                            5\n",
      "Date:                Wed, 08 Aug 2018   Pseudo R-squ.:                  0.2053\n",
      "Time:                        21:10:16   Log-Likelihood:                -20123.\n",
      "converged:                       True   LL-Null:                       -25322.\n",
      "                                        LLR p-value:                     0.000\n",
      "===================================================================================================\n",
      "                                      coef    std err          z      P>|z|      [0.025      0.975]\n",
      "---------------------------------------------------------------------------------------------------\n",
      "Intercept                          -0.1775      0.015    -12.076      0.000      -0.206      -0.149\n",
      "relationship[T. Not-in-family]     -1.9660      0.034    -58.595      0.000      -2.032      -1.900\n",
      "relationship[T. Other-relative]    -3.0799      0.145    -21.260      0.000      -3.364      -2.796\n",
      "relationship[T. Own-child]         -3.9514      0.099    -39.726      0.000      -4.146      -3.756\n",
      "relationship[T. Unmarried]         -2.5208      0.061    -41.164      0.000      -2.641      -2.401\n",
      "relationship[T. Wife]               0.1210      0.046      2.622      0.009       0.031       0.211\n",
      "===================================================================================================\n"
     ]
    }
   ],
   "source": [
    "# step wise logistic regression to select top most important features in the model\n",
    "#+workclass+education_level+marital_status+occupation+relationship+race+sex+capital_gain+capital_loss+hrs_per_week'\n",
    "legref_1= smf.logit(formula='newincome ~ relationship', data=df).fit()\n",
    "print(legref_1.summary())"
   ]
  },
  {
   "cell_type": "code",
   "execution_count": 57,
   "metadata": {},
   "outputs": [
    {
     "name": "stdout",
     "output_type": "stream",
     "text": [
      "Optimization terminated successfully.\n",
      "         Current function value: 0.496270\n",
      "         Iterations 8\n",
      "                           Logit Regression Results                           \n",
      "==============================================================================\n",
      "Dep. Variable:              newincome   No. Observations:                45222\n",
      "Model:                          Logit   Df Residuals:                    45206\n",
      "Method:                           MLE   Df Model:                           15\n",
      "Date:                Wed, 08 Aug 2018   Pseudo R-squ.:                  0.1137\n",
      "Time:                        21:10:18   Log-Likelihood:                -22442.\n",
      "converged:                       True   LL-Null:                       -25322.\n",
      "                                        LLR p-value:                     0.000\n",
      "====================================================================================================\n",
      "                                       coef    std err          z      P>|z|      [0.025      0.975]\n",
      "----------------------------------------------------------------------------------------------------\n",
      "Intercept                           -2.6329      0.114    -23.029      0.000      -2.857      -2.409\n",
      "education_level[T. 11th]            -0.2114      0.158     -1.338      0.181      -0.521       0.098\n",
      "education_level[T. 12th]             0.1137      0.195      0.582      0.561      -0.269       0.497\n",
      "education_level[T. 1st-4th]         -0.6536      0.378     -1.730      0.084      -1.394       0.087\n",
      "education_level[T. 5th-6th]         -0.3328      0.247     -1.349      0.177      -0.816       0.151\n",
      "education_level[T. 7th-8th]         -0.0035      0.180     -0.019      0.984      -0.357       0.350\n",
      "education_level[T. 9th]             -0.1878      0.202     -0.928      0.353      -0.584       0.209\n",
      "education_level[T. Assoc-acdm]       1.6082      0.128     12.525      0.000       1.357       1.860\n",
      "education_level[T. Assoc-voc]        1.5728      0.125     12.535      0.000       1.327       1.819\n",
      "education_level[T. Bachelors]        2.3094      0.117     19.793      0.000       2.081       2.538\n",
      "education_level[T. Doctorate]        3.6452      0.150     24.315      0.000       3.351       3.939\n",
      "education_level[T. HS-grad]          1.0000      0.116      8.586      0.000       0.772       1.228\n",
      "education_level[T. Masters]          2.8502      0.121     23.523      0.000       2.613       3.088\n",
      "education_level[T. Preschool]       -1.6297      1.013     -1.608      0.108      -3.616       0.357\n",
      "education_level[T. Prof-school]      3.7538      0.141     26.582      0.000       3.477       4.031\n",
      "education_level[T. Some-college]     1.2531      0.117     10.706      0.000       1.024       1.482\n",
      "====================================================================================================\n"
     ]
    }
   ],
   "source": [
    "# step wise logistic regression to select top most important features in the model\n",
    "#+workclass+education_level+marital_status+occupation+relationship+race+sex+capital_gain+capital_loss+hrs_per_week'\n",
    "legref_1= smf.logit(formula='newincome ~ education_level', data=df).fit()\n",
    "print(legref_1.summary())"
   ]
  },
  {
   "cell_type": "code",
   "execution_count": 58,
   "metadata": {},
   "outputs": [
    {
     "name": "stdout",
     "output_type": "stream",
     "text": [
      "Optimization terminated successfully.\n",
      "         Current function value: 0.496767\n",
      "         Iterations 8\n",
      "                           Logit Regression Results                           \n",
      "==============================================================================\n",
      "Dep. Variable:              newincome   No. Observations:                45222\n",
      "Model:                          Logit   Df Residuals:                    45208\n",
      "Method:                           MLE   Df Model:                           13\n",
      "Date:                Wed, 08 Aug 2018   Pseudo R-squ.:                  0.1128\n",
      "Time:                        21:10:24   Log-Likelihood:                -22465.\n",
      "converged:                       True   LL-Null:                       -25322.\n",
      "                                        LLR p-value:                     0.000\n",
      "====================================================================================================\n",
      "                                       coef    std err          z      P>|z|      [0.025      0.975]\n",
      "----------------------------------------------------------------------------------------------------\n",
      "Intercept                           -1.8450      0.039    -47.141      0.000      -1.922      -1.768\n",
      "occupation[T. Armed-Forces]          0.9287      0.593      1.566      0.117      -0.233       2.091\n",
      "occupation[T. Craft-repair]          0.6087      0.050     12.213      0.000       0.511       0.706\n",
      "occupation[T. Exec-managerial]       1.7614      0.047     37.541      0.000       1.669       1.853\n",
      "occupation[T. Farming-fishing]      -0.1838      0.090     -2.041      0.041      -0.360      -0.007\n",
      "occupation[T. Handlers-cleaners]    -0.8051      0.097     -8.277      0.000      -0.996      -0.614\n",
      "occupation[T. Machine-op-inspct]    -0.1203      0.068     -1.763      0.078      -0.254       0.013\n",
      "occupation[T. Other-service]        -1.3133      0.083    -15.867      0.000      -1.476      -1.151\n",
      "occupation[T. Priv-house-serv]      -2.4901      0.582     -4.275      0.000      -3.632      -1.349\n",
      "occupation[T. Prof-specialty]        1.6446      0.047     35.029      0.000       1.553       1.737\n",
      "occupation[T. Protective-serv]       1.0661      0.079     13.448      0.000       0.911       1.221\n",
      "occupation[T. Sales]                 0.8455      0.050     17.006      0.000       0.748       0.943\n",
      "occupation[T. Tech-support]          0.9469      0.070     13.450      0.000       0.809       1.085\n",
      "occupation[T. Transport-moving]      0.4982      0.065      7.716      0.000       0.372       0.625\n",
      "====================================================================================================\n"
     ]
    }
   ],
   "source": [
    "# step wise logistic regression to select top most important features in the model\n",
    "#+workclass+education_level+marital_status+occupation+relationship+race+sex+capital_gain+capital_loss+hrs_per_week'\n",
    "legref_1= smf.logit(formula='newincome ~ occupation', data=df).fit()\n",
    "print(legref_1.summary())"
   ]
  },
  {
   "cell_type": "code",
   "execution_count": 59,
   "metadata": {},
   "outputs": [
    {
     "name": "stdout",
     "output_type": "stream",
     "text": [
      "Optimization terminated successfully.\n",
      "         Current function value: 0.554279\n",
      "         Iterations 6\n",
      "                           Logit Regression Results                           \n",
      "==============================================================================\n",
      "Dep. Variable:              newincome   No. Observations:                45222\n",
      "Model:                          Logit   Df Residuals:                    45217\n",
      "Method:                           MLE   Df Model:                            4\n",
      "Date:                Wed, 08 Aug 2018   Pseudo R-squ.:                 0.01014\n",
      "Time:                        21:10:28   Log-Likelihood:                -25066.\n",
      "converged:                       True   LL-Null:                       -25322.\n",
      "                                        LLR p-value:                8.832e-110\n",
      "===============================================================================================\n",
      "                                  coef    std err          z      P>|z|      [0.025      0.975]\n",
      "-----------------------------------------------------------------------------------------------\n",
      "Intercept                      -1.9751      0.147    -13.475      0.000      -2.262      -1.688\n",
      "race[T. Asian-Pac-Islander]     1.0464      0.159      6.583      0.000       0.735       1.358\n",
      "race[T. Black]                  0.0411      0.154      0.267      0.789      -0.260       0.342\n",
      "race[T. Other]                  0.0517      0.217      0.239      0.811      -0.373       0.476\n",
      "race[T. White]                  0.9414      0.147      6.403      0.000       0.653       1.230\n",
      "===============================================================================================\n"
     ]
    }
   ],
   "source": [
    "# step wise logistic regression to select top most important features in the model\n",
    "#+workclass+education_level+marital_status+occupation+relationship+race+sex+capital_gain+capital_loss+hrs_per_week'\n",
    "legref_1= smf.logit(formula='newincome ~ race', data=df).fit()\n",
    "print(legref_1.summary())"
   ]
  },
  {
   "cell_type": "code",
   "execution_count": 60,
   "metadata": {},
   "outputs": [
    {
     "name": "stdout",
     "output_type": "stream",
     "text": [
      "Optimization terminated successfully.\n",
      "         Current function value: 0.534260\n",
      "         Iterations 6\n",
      "                           Logit Regression Results                           \n",
      "==============================================================================\n",
      "Dep. Variable:              newincome   No. Observations:                45222\n",
      "Model:                          Logit   Df Residuals:                    45220\n",
      "Method:                           MLE   Df Model:                            1\n",
      "Date:                Wed, 08 Aug 2018   Pseudo R-squ.:                 0.04589\n",
      "Time:                        21:10:31   Log-Likelihood:                -24160.\n",
      "converged:                       True   LL-Null:                       -25322.\n",
      "                                        LLR p-value:                     0.000\n",
      "================================================================================\n",
      "                   coef    std err          z      P>|z|      [0.025      0.975]\n",
      "--------------------------------------------------------------------------------\n",
      "Intercept       -2.0547      0.026    -79.032      0.000      -2.106      -2.004\n",
      "sex[T. Male]     1.2662      0.029     43.991      0.000       1.210       1.323\n",
      "================================================================================\n"
     ]
    }
   ],
   "source": [
    "# step wise logistic regression to select top most important features in the model\n",
    "#+workclass+education_level+marital_status+occupation+relationship+race+sex+capital_gain+capital_loss+hrs_per_week'\n",
    "legref_1= smf.logit(formula='newincome ~ sex', data=df).fit()\n",
    "print(legref_1.summary())"
   ]
  },
  {
   "cell_type": "code",
   "execution_count": 61,
   "metadata": {},
   "outputs": [
    {
     "name": "stdout",
     "output_type": "stream",
     "text": [
      "Optimization terminated successfully.\n",
      "         Current function value: 0.533700\n",
      "         Iterations 6\n",
      "                           Logit Regression Results                           \n",
      "==============================================================================\n",
      "Dep. Variable:              newincome   No. Observations:                45222\n",
      "Model:                          Logit   Df Residuals:                    45220\n",
      "Method:                           MLE   Df Model:                            1\n",
      "Date:                Wed, 08 Aug 2018   Pseudo R-squ.:                 0.04689\n",
      "Time:                        21:10:33   Log-Likelihood:                -24135.\n",
      "converged:                       True   LL-Null:                       -25322.\n",
      "                                        LLR p-value:                     0.000\n",
      "================================================================================\n",
      "                   coef    std err          z      P>|z|      [0.025      0.975]\n",
      "--------------------------------------------------------------------------------\n",
      "Intercept       -3.0709      0.045    -67.644      0.000      -3.160      -2.982\n",
      "hrs_per_week     0.0463      0.001     45.698      0.000       0.044       0.048\n",
      "================================================================================\n"
     ]
    }
   ],
   "source": [
    "# step wise logistic regression to select top most important features in the model\n",
    "#+workclass+education_level+marital_status+occupation+relationship+race+sex+capital_gain+capital_loss+hrs_per_week'\n",
    "legref_1= smf.logit(formula='newincome ~ hrs_per_week', data=df).fit()\n",
    "print(legref_1.summary())"
   ]
  },
  {
   "cell_type": "code",
   "execution_count": 62,
   "metadata": {},
   "outputs": [
    {
     "name": "stdout",
     "output_type": "stream",
     "text": [
      "Optimization terminated successfully.\n",
      "         Current function value: 0.508074\n",
      "         Iterations 8\n",
      "                           Logit Regression Results                           \n",
      "==============================================================================\n",
      "Dep. Variable:              newincome   No. Observations:                45222\n",
      "Model:                          Logit   Df Residuals:                    45220\n",
      "Method:                           MLE   Df Model:                            1\n",
      "Date:                Wed, 08 Aug 2018   Pseudo R-squ.:                 0.09265\n",
      "Time:                        21:10:36   Log-Likelihood:                -22976.\n",
      "converged:                       True   LL-Null:                       -25322.\n",
      "                                        LLR p-value:                     0.000\n",
      "================================================================================\n",
      "                   coef    std err          z      P>|z|      [0.025      0.975]\n",
      "--------------------------------------------------------------------------------\n",
      "Intercept       -1.3371      0.012   -111.585      0.000      -1.361      -1.314\n",
      "capital_gain     0.0003    7.3e-06     45.795      0.000       0.000       0.000\n",
      "================================================================================\n"
     ]
    }
   ],
   "source": [
    "# step wise logistic regression to select top most important features in the model\n",
    "#+workclass+education_level+marital_status+occupation+relationship+race+sex+capital_gain+capital_loss+hrs_per_week'\n",
    "legref_1= smf.logit(formula='newincome ~ capital_gain', data=df).fit()\n",
    "print(legref_1.summary())"
   ]
  },
  {
   "cell_type": "code",
   "execution_count": 63,
   "metadata": {},
   "outputs": [
    {
     "name": "stdout",
     "output_type": "stream",
     "text": [
      "Optimization terminated successfully.\n",
      "         Current function value: 0.550497\n",
      "         Iterations 5\n",
      "                           Logit Regression Results                           \n",
      "==============================================================================\n",
      "Dep. Variable:              newincome   No. Observations:                45222\n",
      "Model:                          Logit   Df Residuals:                    45220\n",
      "Method:                           MLE   Df Model:                            1\n",
      "Date:                Wed, 08 Aug 2018   Pseudo R-squ.:                 0.01689\n",
      "Time:                        21:10:45   Log-Likelihood:                -24895.\n",
      "converged:                       True   LL-Null:                       -25322.\n",
      "                                        LLR p-value:                4.980e-188\n",
      "================================================================================\n",
      "                   coef    std err          z      P>|z|      [0.025      0.975]\n",
      "--------------------------------------------------------------------------------\n",
      "Intercept       -1.1868      0.011   -104.378      0.000      -1.209      -1.165\n",
      "capital_loss     0.0007   2.37e-05     29.459      0.000       0.001       0.001\n",
      "================================================================================\n"
     ]
    }
   ],
   "source": [
    "# step wise logistic regression to select top most important features in the model\n",
    "#+workclass+education_level+marital_status+occupation+relationship+race+sex+capital_gain+capital_loss+hrs_per_week'\n",
    "legref_1= smf.logit(formula='newincome ~ capital_loss', data=df).fit()\n",
    "print(legref_1.summary())"
   ]
  },
  {
   "cell_type": "code",
   "execution_count": 64,
   "metadata": {},
   "outputs": [
    {
     "name": "stdout",
     "output_type": "stream",
     "text": [
      "Optimization terminated successfully.\n",
      "         Current function value: 0.442618\n",
      "         Iterations 8\n",
      "                           Logit Regression Results                           \n",
      "==============================================================================\n",
      "Dep. Variable:              newincome   No. Observations:                45222\n",
      "Model:                          Logit   Df Residuals:                    45210\n",
      "Method:                           MLE   Df Model:                           11\n",
      "Date:                Wed, 08 Aug 2018   Pseudo R-squ.:                  0.2095\n",
      "Time:                        21:10:51   Log-Likelihood:                -20016.\n",
      "converged:                       True   LL-Null:                       -25322.\n",
      "                                        LLR p-value:                     0.000\n",
      "============================================================================================================\n",
      "                                               coef    std err          z      P>|z|      [0.025      0.975]\n",
      "------------------------------------------------------------------------------------------------------------\n",
      "Intercept                                   -2.0712      0.194    -10.676      0.000      -2.451      -1.691\n",
      "marital_status[T. Married-AF-spouse]         1.8244      0.409      4.462      0.000       1.023       2.626\n",
      "marital_status[T. Married-civ-spouse]        1.8938      0.193      9.790      0.000       1.515       2.273\n",
      "marital_status[T. Married-spouse-absent]     0.0041      0.151      0.027      0.978      -0.292       0.300\n",
      "marital_status[T. Never-married]            -0.5595      0.060     -9.399      0.000      -0.676      -0.443\n",
      "marital_status[T. Separated]                -0.3159      0.113     -2.792      0.005      -0.538      -0.094\n",
      "marital_status[T. Widowed]                  -0.1191      0.105     -1.137      0.256      -0.325       0.086\n",
      "relationship[T. Not-in-family]               0.2368      0.191      1.242      0.214      -0.137       0.610\n",
      "relationship[T. Other-relative]             -1.5171      0.173     -8.765      0.000      -1.856      -1.178\n",
      "relationship[T. Own-child]                  -1.7132      0.190     -9.004      0.000      -2.086      -1.340\n",
      "relationship[T. Unmarried]                  -0.4541      0.200     -2.273      0.023      -0.846      -0.062\n",
      "relationship[T. Wife]                        0.1216      0.046      2.629      0.009       0.031       0.212\n",
      "============================================================================================================\n"
     ]
    }
   ],
   "source": [
    "# marital_status and relationship accounts for highest R sq so let's combime them together\n",
    "legref_1= smf.logit(formula='newincome ~ marital_status+relationship', data=df).fit()\n",
    "print(legref_1.summary())\n",
    "# results show redundancy so we'd be eliminating one of them"
   ]
  },
  {
   "cell_type": "code",
   "execution_count": 65,
   "metadata": {},
   "outputs": [
    {
     "name": "stdout",
     "output_type": "stream",
     "text": [
      "Optimization terminated successfully.\n",
      "         Current function value: 0.396863\n",
      "         Iterations 8\n",
      "                           Logit Regression Results                           \n",
      "==============================================================================\n",
      "Dep. Variable:              newincome   No. Observations:                45222\n",
      "Model:                          Logit   Df Residuals:                    45203\n",
      "Method:                           MLE   Df Model:                           18\n",
      "Date:                Wed, 08 Aug 2018   Pseudo R-squ.:                  0.2913\n",
      "Time:                        21:10:55   Log-Likelihood:                -17947.\n",
      "converged:                       True   LL-Null:                       -25322.\n",
      "                                        LLR p-value:                     0.000\n",
      "====================================================================================================\n",
      "                                       coef    std err          z      P>|z|      [0.025      0.975]\n",
      "----------------------------------------------------------------------------------------------------\n",
      "Intercept                           -0.4365      0.048     -9.183      0.000      -0.530      -0.343\n",
      "occupation[T. Armed-Forces]          0.8625      0.701      1.230      0.219      -0.512       2.237\n",
      "occupation[T. Craft-repair]         -0.2310      0.057     -4.049      0.000      -0.343      -0.119\n",
      "occupation[T. Exec-managerial]       1.2635      0.054     23.330      0.000       1.157       1.370\n",
      "occupation[T. Farming-fishing]      -1.0253      0.096    -10.661      0.000      -1.214      -0.837\n",
      "occupation[T. Handlers-cleaners]    -1.1397      0.104    -10.947      0.000      -1.344      -0.936\n",
      "occupation[T. Machine-op-inspct]    -0.7560      0.075    -10.144      0.000      -0.902      -0.610\n",
      "occupation[T. Other-service]        -1.3107      0.088    -14.919      0.000      -1.483      -1.138\n",
      "occupation[T. Priv-house-serv]      -1.9938      0.593     -3.364      0.001      -3.155      -0.832\n",
      "occupation[T. Prof-specialty]        1.3288      0.054     24.522      0.000       1.223       1.435\n",
      "occupation[T. Protective-serv]       0.3945      0.090      4.392      0.000       0.218       0.571\n",
      "occupation[T. Sales]                 0.4965      0.057      8.655      0.000       0.384       0.609\n",
      "occupation[T. Tech-support]          0.6781      0.081      8.330      0.000       0.519       0.838\n",
      "occupation[T. Transport-moving]     -0.3722      0.072     -5.200      0.000      -0.513      -0.232\n",
      "relationship[T. Not-in-family]      -2.1627      0.036    -59.529      0.000      -2.234      -2.092\n",
      "relationship[T. Other-relative]     -2.8498      0.148    -19.310      0.000      -3.139      -2.561\n",
      "relationship[T. Own-child]          -3.8359      0.101    -38.090      0.000      -4.033      -3.639\n",
      "relationship[T. Unmarried]          -2.5942      0.064    -40.688      0.000      -2.719      -2.469\n",
      "relationship[T. Wife]                0.0267      0.053      0.507      0.612      -0.077       0.130\n",
      "====================================================================================================\n"
     ]
    }
   ],
   "source": [
    "# combine marital_status with occupation level\n",
    "legref_1= smf.logit(formula='newincome ~ occupation + relationship ', data=df).fit()\n",
    "print(legref_1.summary())"
   ]
  },
  {
   "cell_type": "code",
   "execution_count": 67,
   "metadata": {},
   "outputs": [
    {
     "name": "stdout",
     "output_type": "stream",
     "text": [
      "Optimization terminated successfully.\n",
      "         Current function value: 0.339586\n",
      "         Iterations 11\n",
      "                           Logit Regression Results                           \n",
      "==============================================================================\n",
      "Dep. Variable:              newincome   No. Observations:                45222\n",
      "Model:                          Logit   Df Residuals:                    45186\n",
      "Method:                           MLE   Df Model:                           35\n",
      "Date:                Wed, 08 Aug 2018   Pseudo R-squ.:                  0.3935\n",
      "Time:                        23:55:28   Log-Likelihood:                -15357.\n",
      "converged:                       True   LL-Null:                       -25322.\n",
      "                                        LLR p-value:                     0.000\n",
      "====================================================================================================\n",
      "                                       coef    std err          z      P>|z|      [0.025      0.975]\n",
      "----------------------------------------------------------------------------------------------------\n",
      "Intercept                           -1.8473      0.137    -13.497      0.000      -2.116      -1.579\n",
      "occupation[T. Armed-Forces]          0.6781      0.890      0.762      0.446      -1.065       2.422\n",
      "occupation[T. Craft-repair]          0.0641      0.062      1.026      0.305      -0.058       0.186\n",
      "occupation[T. Exec-managerial]       0.9121      0.060     15.294      0.000       0.795       1.029\n",
      "occupation[T. Farming-fishing]      -0.8378      0.107     -7.823      0.000      -1.048      -0.628\n",
      "occupation[T. Handlers-cleaners]    -0.7348      0.112     -6.550      0.000      -0.955      -0.515\n",
      "occupation[T. Machine-op-inspct]    -0.3256      0.081     -4.035      0.000      -0.484      -0.167\n",
      "occupation[T. Other-service]        -0.9838      0.094    -10.413      0.000      -1.169      -0.799\n",
      "occupation[T. Priv-house-serv]      -1.7617      0.725     -2.429      0.015      -3.183      -0.340\n",
      "occupation[T. Prof-specialty]        0.4898      0.063      7.717      0.000       0.365       0.614\n",
      "occupation[T. Protective-serv]       0.4910      0.096      5.092      0.000       0.302       0.680\n",
      "occupation[T. Sales]                 0.3529      0.063      5.599      0.000       0.229       0.477\n",
      "occupation[T. Tech-support]          0.5279      0.088      6.030      0.000       0.356       0.699\n",
      "occupation[T. Transport-moving]      0.0540      0.078      0.691      0.490      -0.099       0.207\n",
      "relationship[T. Not-in-family]      -2.3684      0.041    -57.359      0.000      -2.449      -2.287\n",
      "relationship[T. Other-relative]     -2.7499      0.162    -16.988      0.000      -3.067      -2.433\n",
      "relationship[T. Own-child]          -3.7762      0.109    -34.640      0.000      -3.990      -3.563\n",
      "relationship[T. Unmarried]          -2.5817      0.071    -36.326      0.000      -2.721      -2.442\n",
      "relationship[T. Wife]                0.1442      0.056      2.557      0.011       0.034       0.255\n",
      "education_level[T. 11th]            -0.0263      0.175     -0.150      0.881      -0.369       0.316\n",
      "education_level[T. 12th]             0.3901      0.221      1.764      0.078      -0.043       0.823\n",
      "education_level[T. 1st-4th]         -0.6738      0.407     -1.658      0.097      -1.471       0.123\n",
      "education_level[T. 5th-6th]         -0.4702      0.269     -1.747      0.081      -0.998       0.057\n",
      "education_level[T. 7th-8th]         -0.3872      0.194     -1.993      0.046      -0.768      -0.006\n",
      "education_level[T. 9th]             -0.3157      0.218     -1.446      0.148      -0.744       0.112\n",
      "education_level[T. Assoc-acdm]       1.3216      0.146      9.029      0.000       1.035       1.608\n",
      "education_level[T. Assoc-voc]        1.1957      0.141      8.451      0.000       0.918       1.473\n",
      "education_level[T. Bachelors]        1.8368      0.132     13.943      0.000       1.579       2.095\n",
      "education_level[T. Doctorate]        2.9174      0.179     16.272      0.000       2.566       3.269\n",
      "education_level[T. HS-grad]          0.7760      0.129      6.027      0.000       0.524       1.028\n",
      "education_level[T. Masters]          2.2198      0.140     15.889      0.000       1.946       2.494\n",
      "education_level[T. Preschool]       -4.8833      3.623     -1.348      0.178     -11.983       2.217\n",
      "education_level[T. Prof-school]      2.8931      0.169     17.079      0.000       2.561       3.225\n",
      "education_level[T. Some-college]     1.1118      0.130      8.526      0.000       0.856       1.367\n",
      "capital_gain                         0.0003   8.62e-06     37.949      0.000       0.000       0.000\n",
      "capital_loss                         0.0007   3.06e-05     21.990      0.000       0.001       0.001\n",
      "====================================================================================================\n"
     ]
    }
   ],
   "source": [
    "#the following combination explains the 39 % of the variation in the model while the overall combination explains 40% of total model variation\n",
    "# so the best five features for this model would be the following combination\n",
    "# the combo was achieved by stepwise selection process _it was a manual process \n",
    "legref_1= smf.logit(formula='newincome ~ occupation+relationship + capital_gain + education_level + capital_loss', data=df).fit()\n",
    "print(legref_1.summary())"
   ]
  },
  {
   "cell_type": "code",
   "execution_count": null,
   "metadata": {
    "collapsed": true
   },
   "outputs": [],
   "source": []
  }
 ],
 "metadata": {
  "kernelspec": {
   "display_name": "Python 3",
   "language": "python",
   "name": "python3"
  },
  "language_info": {
   "codemirror_mode": {
    "name": "ipython",
    "version": 3
   },
   "file_extension": ".py",
   "mimetype": "text/x-python",
   "name": "python",
   "nbconvert_exporter": "python",
   "pygments_lexer": "ipython3",
   "version": "3.6.3"
  }
 },
 "nbformat": 4,
 "nbformat_minor": 2
}
